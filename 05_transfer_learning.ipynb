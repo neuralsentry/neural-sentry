{
 "cells": [
  {
   "attachments": {},
   "cell_type": "markdown",
   "metadata": {},
   "source": [
    "# Transfer Learning\n"
   ]
  },
  {
   "cell_type": "code",
   "execution_count": 1,
   "metadata": {},
   "outputs": [],
   "source": [
    "import math\n",
    "\n",
    "import torch\n",
    "from datasets import load_dataset, Dataset\n",
    "from transformers import (\n",
    "    AutoTokenizer,\n",
    "    AutoModelForMaskedLM,\n",
    "    DataCollatorForLanguageModeling,\n",
    "    TrainingArguments,\n",
    "    Trainer,\n",
    ")\n",
    "\n",
    "from lib.trainer import get_trainer\n",
    "from utils import (\n",
    "    prepare_starncoder_tokenizer,\n",
    "    get_latest_checkpoint,\n",
    "    concat_tokens_to_chunks,\n",
    ")\n",
    "from config import BaseConfig, MLMConfig"
   ]
  },
  {
   "cell_type": "code",
   "execution_count": null,
   "metadata": {},
   "outputs": [],
   "source": [
    "# Prepare Datasets\n",
    "\n",
    "git_commits = load_dataset(\n",
    "    \"neuralsentry/git-commits\",\n",
    "    split=\"train\",\n",
    ")\n",
    "\n",
    "\n",
    "def prepare_datasets(git_commits: Dataset, tokenizer, config: BaseConfig):\n",
    "    tokenized_dataset = (\n",
    "        git_commits.map(\n",
    "            lambda x: tokenizer(x[\"commit_msg\"]),\n",
    "            batched=True,\n",
    "            remove_columns=[\"commit_msg\", \"sha\", \"remote_url\", \"date\", \"labels\"],\n",
    "        )\n",
    "        .map(\n",
    "            concat_tokens_to_chunks(chunk_size=config.MAX_INPUT_LENGTH),\n",
    "            batched=True,\n",
    "            num_proc=config.NUM_CPU_WORKERS,\n",
    "        )\n",
    "        .train_test_split(\n",
    "            train_size=config.TRAIN_SIZE, test_size=config.EVAL_SIZE, seed=420\n",
    "        )\n",
    "    )\n",
    "\n",
    "    train_dataset = tokenized_dataset[\"train\"]\n",
    "    eval_dataset = tokenized_dataset[\"test\"]\n",
    "    return (train_dataset, eval_dataset)"
   ]
  },
  {
   "attachments": {},
   "cell_type": "markdown",
   "metadata": {},
   "source": [
    "## Domain Modelling (MLM)\n"
   ]
  },
  {
   "attachments": {},
   "cell_type": "markdown",
   "metadata": {},
   "source": [
    "### StarEncoder\n"
   ]
  },
  {
   "cell_type": "code",
   "execution_count": null,
   "metadata": {},
   "outputs": [],
   "source": [
    "# Checkpoints\n",
    "MODEL_CHECKPOINT = \"bigcode/starencoder\"\n",
    "TOKENIZER_CHECKPOINT = \"bigcode/starencoder\"\n",
    "\n",
    "# Prepare Models\n",
    "model = AutoModelForMaskedLM.from_pretrained(MODEL_CHECKPOINT)\n",
    "tokenizer = prepare_starncoder_tokenizer(TOKENIZER_CHECKPOINT)\n",
    "\n",
    "# Prepare Config\n",
    "model_name = f'{MODEL_CHECKPOINT.split(\"/\")[-1]}-finetuned-git-commits'\n",
    "\n",
    "config = MLMConfig(\n",
    "    BATCH_SIZE=16,\n",
    "    MAX_INPUT_LENGTH=128,\n",
    "    # PUSH_TO_HUB=True,\n",
    "    # HUB_MODEL_ID=f\"neuralsentry/{model_name}\",\n",
    ")\n",
    "\n",
    "# Prepare Datasets\n",
    "train_dataset, eval_dataset = prepare_datasets(git_commits, tokenizer, config)\n",
    "\n",
    "# Prepare Training\n",
    "data_collator = DataCollatorForLanguageModeling(\n",
    "    tokenizer=tokenizer, mlm_probability=config.MLM_PROB\n",
    ")\n",
    "training_args = TrainingArguments(\n",
    "    output_dir=f\"./models/{model_name}\",\n",
    "    overwrite_output_dir=True,\n",
    "    learning_rate=config.LEARNING_RATE,\n",
    "    weight_decay=config.WEIGHT_DECAY,\n",
    "    per_device_train_batch_size=config.BATCH_SIZE,\n",
    "    per_device_eval_batch_size=config.BATCH_SIZE,\n",
    "    fp16=config.FP16,\n",
    "    evaluation_strategy=\"epoch\",\n",
    "    num_train_epochs=config.NUM_TRAIN_EPOCHS,\n",
    "    logging_steps=math.floor(\n",
    "        (len(train_dataset) // config.BATCH_SIZE) * config.LOGGING_STEPS\n",
    "    ),\n",
    "    save_strategy=\"epoch\",\n",
    "    push_to_hub=config.PUSH_TO_HUB,\n",
    "    hub_model_id=config.HUB_MODEL_ID,\n",
    ")\n",
    "trainer = Trainer(\n",
    "    model=model,\n",
    "    args=training_args,\n",
    "    data_collator=data_collator,\n",
    "    tokenizer=tokenizer,\n",
    "    train_dataset=train_dataset,\n",
    "    eval_dataset=eval_dataset,\n",
    ")"
   ]
  },
  {
   "cell_type": "code",
   "execution_count": null,
   "metadata": {},
   "outputs": [],
   "source": [
    "results_before = trainer.evaluate()"
   ]
  },
  {
   "cell_type": "code",
   "execution_count": 12,
   "metadata": {},
   "outputs": [
    {
     "name": "stdout",
     "output_type": "stream",
     "text": [
      ">>> Perplexity: 8.480668247075146\n"
     ]
    }
   ],
   "source": [
    "print(f'>>> Perplexity: {math.exp(results_before[\"eval_loss\"])}')"
   ]
  },
  {
   "cell_type": "code",
   "execution_count": null,
   "metadata": {},
   "outputs": [],
   "source": [
    "results_after = trainer.evaluate()"
   ]
  },
  {
   "cell_type": "code",
   "execution_count": null,
   "metadata": {},
   "outputs": [
    {
     "name": "stdout",
     "output_type": "stream",
     "text": [
      ">>> Perplexity: 3.2840768831826765\n"
     ]
    }
   ],
   "source": [
    "print(f'>>> Perplexity: {math.exp(results_after[\"eval_loss\"])}')"
   ]
  },
  {
   "attachments": {},
   "cell_type": "markdown",
   "metadata": {},
   "source": [
    "## Text Classification\n"
   ]
  },
  {
   "attachments": {},
   "cell_type": "markdown",
   "metadata": {},
   "source": [
    "### StarEncoder\n"
   ]
  },
  {
   "cell_type": "code",
   "execution_count": null,
   "metadata": {},
   "outputs": [],
   "source": [
    "# Checkpoints\n",
    "MODEL_CHECKPOINT = \"neuralsentry/starencoder-finetuned-git-commits\"\n",
    "TOKENIZER_CHECKPOINT = \"neuralsentry/starencoder-finetuned-git-commits\"\n",
    "\n",
    "# Prepare Models\n",
    "model = AutoModelForMaskedLM.from_pretrained(MODEL_CHECKPOINT)\n",
    "tokenizer = prepare_starncoder_tokenizer(TOKENIZER_CHECKPOINT)\n",
    "\n",
    "# Prepare Config\n",
    "model_name = f'{MODEL_CHECKPOINT.split(\"/\")[-1]}-finetuned-git-commits'\n",
    "\n",
    "config = MLMConfig(\n",
    "    BATCH_SIZE=16,\n",
    "    MAX_INPUT_LENGTH=128,\n",
    "    # PUSH_TO_HUB=True,\n",
    "    # HUB_MODEL_ID=f\"neuralsentry/{model_name}\",\n",
    ")\n",
    "\n",
    "# Prepare Datasets\n",
    "train_dataset, eval_dataset = prepare_datasets(git_commits, tokenizer, config)\n",
    "\n",
    "# Prepare Training\n",
    "data_collator = DataCollatorForLanguageModeling(\n",
    "    tokenizer=tokenizer, mlm_probability=config.MLM_PROB\n",
    ")\n",
    "training_args = TrainingArguments(\n",
    "    output_dir=f\"./models/{model_name}\",\n",
    "    overwrite_output_dir=True,\n",
    "    learning_rate=config.LEARNING_RATE,\n",
    "    weight_decay=config.WEIGHT_DECAY,\n",
    "    per_device_train_batch_size=config.BATCH_SIZE,\n",
    "    per_device_eval_batch_size=config.BATCH_SIZE,\n",
    "    fp16=config.FP16,\n",
    "    evaluation_strategy=\"epoch\",\n",
    "    num_train_epochs=config.NUM_TRAIN_EPOCHS,\n",
    "    logging_steps=math.floor(\n",
    "        (len(train_dataset) // config.BATCH_SIZE) * config.LOGGING_STEPS\n",
    "    ),\n",
    "    save_strategy=\"epoch\",\n",
    "    push_to_hub=config.PUSH_TO_HUB,\n",
    "    hub_model_id=config.HUB_MODEL_ID,\n",
    ")\n",
    "trainer = Trainer(\n",
    "    model=model,\n",
    "    args=training_args,\n",
    "    data_collator=data_collator,\n",
    "    tokenizer=tokenizer,\n",
    "    train_dataset=train_dataset,\n",
    "    eval_dataset=eval_dataset,\n",
    ")"
   ]
  }
 ],
 "metadata": {
  "language_info": {
   "name": "python"
  },
  "orig_nbformat": 4
 },
 "nbformat": 4,
 "nbformat_minor": 2
}
