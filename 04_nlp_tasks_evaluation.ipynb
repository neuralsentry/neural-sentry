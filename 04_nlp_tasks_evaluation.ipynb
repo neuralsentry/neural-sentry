{
 "cells": [
  {
   "cell_type": "markdown",
   "metadata": {},
   "source": [
    "# NLP Tasks Evaluation"
   ]
  },
  {
   "cell_type": "code",
   "execution_count": 1,
   "metadata": {
    "tags": []
   },
   "outputs": [],
   "source": [
    "import uuid\n",
    "import json\n",
    "from pprint import pprint\n",
    "\n",
    "import chromadb\n",
    "import pandas as pd\n",
    "import ipywidgets as widgets\n",
    "from IPython.display import display, HTML"
   ]
  },
  {
   "cell_type": "markdown",
   "metadata": {},
   "source": [
    "## Sentiment Analysis"
   ]
  },
  {
   "cell_type": "markdown",
   "metadata": {
    "jp-MarkdownHeadingCollapsed": true,
    "tags": []
   },
   "source": [
    "### Method 1: Embeddings, Vector Databases and Cosine Similarity Searches\n",
    "\n",
    "This method is based on the idea that similar words have similar meanings. We can use this idea to find similar words to a given word. For example, if we want to find similar words to the word \"good\", we can use the cosine similarity between the vector representations of the word \"good\" and all the other words in the vocabulary. The words with the highest cosine similarity are the most similar words to the word \"good\"."
   ]
  },
  {
   "cell_type": "code",
   "execution_count": 2,
   "metadata": {},
   "outputs": [
    {
     "name": "stderr",
     "output_type": "stream",
     "text": [
      "Using embedded DuckDB without persistence: data will be transient\n",
      "No embedding_function provided, using default embedding function: SentenceTransformerEmbeddingFunction\n"
     ]
    }
   ],
   "source": [
    "client = chromadb.Client()\n",
    "commits_collection = client.create_collection(\"commits\")\n",
    "df = pd.read_csv(\"data/processed/commits.csv\")\n",
    "\n",
    "labels = df[\"label\"].tolist()\n",
    "messages = df[\"message\"].tolist()\n",
    "metadatas = [eval(metadata) for metadata in df[\"metadata\"].tolist()]\n",
    "\n",
    "commits_collection.add(\n",
    "    ids=[str(uuid.uuid4()) for _ in range(len(df))],\n",
    "    documents=messages,\n",
    "    metadatas=metadatas,\n",
    ")"
   ]
  },
  {
   "cell_type": "code",
   "execution_count": 3,
   "metadata": {
    "tags": []
   },
   "outputs": [
    {
     "data": {
      "text/html": [
       "<b>Enter a commit message:</b>"
      ],
      "text/plain": [
       "<IPython.core.display.HTML object>"
      ]
     },
     "metadata": {},
     "output_type": "display_data"
    },
    {
     "data": {
      "application/vnd.jupyter.widget-view+json": {
       "model_id": "030c3b3139194f6a9be9dbde09a577b1",
       "version_major": 2,
       "version_minor": 0
      },
      "text/plain": [
       "Textarea(value='')"
      ]
     },
     "metadata": {},
     "output_type": "display_data"
    },
    {
     "data": {
      "application/vnd.jupyter.widget-view+json": {
       "model_id": "9787b2e3090946b18da79fbabd27fa21",
       "version_major": 2,
       "version_minor": 0
      },
      "text/plain": [
       "Button(description='Submit', style=ButtonStyle())"
      ]
     },
     "metadata": {},
     "output_type": "display_data"
    },
    {
     "data": {
      "application/vnd.jupyter.widget-view+json": {
       "model_id": "45f21fb8093f400d8b085b8b9b4e3617",
       "version_major": 2,
       "version_minor": 0
      },
      "text/plain": [
       "Output()"
      ]
     },
     "metadata": {},
     "output_type": "display_data"
    }
   ],
   "source": [
    "textarea = widgets.Textarea()\n",
    "button = widgets.Button(description=\"Submit\")\n",
    "output = widgets.Output()\n",
    "\n",
    "def query_commits(x):\n",
    "    with output:\n",
    "        output.clear_output()\n",
    "        results = commits_collection.query(query_texts=textarea.value, n_results=3)\n",
    "        print(type(results))\n",
    "        display(HTML(f\"<pre>{json.dumps(results, indent=2)}<pre>\"))\n",
    "\n",
    "\n",
    "button.on_click(query_commits)\n",
    "\n",
    "display(HTML(\"<b>Enter a commit message:</b>\"))\n",
    "display(textarea)\n",
    "display(button)\n",
    "display(output)"
   ]
  },
  {
   "cell_type": "markdown",
   "metadata": {},
   "source": [
    "### Method 2: Supervised Learning\n",
    "\n",
    "This method is based on the idea that we can train a model to predict the sentiment of a sentence. In the context of git commit classification, we can train a model to predict whether a git commit is a vulnerability fix or not."
   ]
  },
  {
   "cell_type": "code",
   "execution_count": null,
   "metadata": {},
   "outputs": [],
   "source": []
  }
 ],
 "metadata": {
  "kernelspec": {
   "display_name": "Python 3 (ipykernel)",
   "language": "python",
   "name": "python3"
  },
  "language_info": {
   "codemirror_mode": {
    "name": "ipython",
    "version": 3
   },
   "file_extension": ".py",
   "mimetype": "text/x-python",
   "name": "python",
   "nbconvert_exporter": "python",
   "pygments_lexer": "ipython3",
   "version": "3.11.3"
  }
 },
 "nbformat": 4,
 "nbformat_minor": 4
}
