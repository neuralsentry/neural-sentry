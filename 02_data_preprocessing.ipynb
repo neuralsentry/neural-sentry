{
 "cells": [
  {
   "cell_type": "code",
   "execution_count": 1,
   "metadata": {},
   "outputs": [],
   "source": [
    "import os\n",
    "import glob\n",
    "import pandas as pd\n",
    "from datasets import load_dataset, load_from_disk, Dataset, ClassLabel"
   ]
  },
  {
   "attachments": {},
   "cell_type": "markdown",
   "metadata": {},
   "source": [
    "## Pushed to HuggingFace\n"
   ]
  },
  {
   "cell_type": "code",
   "execution_count": null,
   "metadata": {},
   "outputs": [],
   "source": [
    "# Raw Dataset\n",
    "\n",
    "# Convert csv to Apache Arrow format\n",
    "raw_git_commits = load_dataset(\"csv\", data_files=\"./data/commits.csv\")\n",
    "raw_git_commits.save_to_disk(\"./data/raw-git-commits\")\n",
    "\n",
    "# Upload to HuggingFace\n",
    "raw_git_commits = load_from_disk(\"./data/raw-git-commits\")\n",
    "raw_git_commits.push_to_hub(\"neuralsentry/raw-git-commits\")"
   ]
  },
  {
   "cell_type": "code",
   "execution_count": null,
   "metadata": {},
   "outputs": [],
   "source": [
    "# Split Dataset\n",
    "\n",
    "raw_git_commits = load_dataset(\"neuralsentry/raw-git-commits\")\n",
    "git_commits = raw_git_commits[\"train\"].train_test_split(test_size=0.1, seed=420)\n",
    "\n",
    "# Upload to HuggingFace\n",
    "git_commits.push_to_hub(\"neuralsentry/git-commits\")"
   ]
  },
  {
   "cell_type": "code",
   "execution_count": null,
   "metadata": {},
   "outputs": [],
   "source": [
    "# Labelled Dataset\n",
    "\n",
    "# Convert all excels to csv\n",
    "labelled_excels = glob.glob(\"./data/labelled/*.xlsx\")\n",
    "for excel in labelled_excels:\n",
    "    df = pd.read_excel(excel)\n",
    "    df.to_csv(excel.replace(\".xlsx\", \".csv\"), index=False)\n",
    "\n",
    "# Combine all csvs into one dataset\n",
    "labelled_csvs = glob.glob(\"./data/labelled/*.csv\")\n",
    "df = pd.concat([pd.read_csv(csv) for csv in labelled_csvs], ignore_index=True)\n",
    "Dataset.from_pandas(df).save_to_disk(\"./data/git-commits-labelled\")\n",
    "git_commits_labelled = load_from_disk(\"./data/git-commits-labelled\")\n",
    "\n",
    "# Change typeof labels to ClassLabel\n",
    "features = git_commits_labelled.features.copy()\n",
    "features[\"labels\"] = ClassLabel(num_classes=2, names=[\"non-bug\", \"bug\"])\n",
    "git_commits_labelled = git_commits_labelled.cast(features)\n",
    "\n",
    "# Push\n",
    "git_commits_labelled.push_to_hub(\"neuralsentry/git-commits-labelled\")"
   ]
  },
  {
   "attachments": {},
   "cell_type": "markdown",
   "metadata": {},
   "source": [
    "## Data Labelling\n"
   ]
  },
  {
   "cell_type": "code",
   "execution_count": null,
   "metadata": {},
   "outputs": [],
   "source": [
    "raw_datasets = load_dataset(\"neuralsentry/raw-git-commits\", split=\"train\").shuffle(seed=420)"
   ]
  },
  {
   "cell_type": "code",
   "execution_count": null,
   "metadata": {},
   "outputs": [],
   "source": [
    "# Extract commits of each repo\n",
    "\n",
    "remote_urls = raw_datasets.unique(\"remote_url\")\n",
    "repo_names = [os.path.basename(url) for url in remote_urls]\n",
    "\n",
    "for repo_name in repo_names:\n",
    "    raw_datasets.filter(lambda example: repo_name in example[\"remote_url\"]).to_csv(\n",
    "        f\"./data/{repo_name}.csv\"\n",
    "    )"
   ]
  },
  {
   "cell_type": "code",
   "execution_count": null,
   "metadata": {},
   "outputs": [],
   "source": [
    "# Remove already labelled commits\n",
    "for repo_name in repo_names:\n",
    "    path = f\"./data/{repo_name}.csv\"\n",
    "    labelled_path = f\"./data/labelled/{repo_name}.csv\"\n",
    "    if not os.path.exists(labelled_path):\n",
    "        continue\n",
    "    unlabelled_df = pd.read_csv(path)\n",
    "    labelled_df = pd.read_csv(labelled_path)\n",
    "\n",
    "    # remove all rows in unlabelled_df where the sha is in labelled_df\n",
    "    df = unlabelled_df[~unlabelled_df[\"sha\"].isin(labelled_df[\"sha\"])]\n",
    "    df.to_csv(path, index=False)"
   ]
  }
 ],
 "metadata": {
  "kernelspec": {
   "display_name": "Python 3 (ipykernel)",
   "language": "python",
   "name": "python3"
  },
  "language_info": {
   "codemirror_mode": {
    "name": "ipython",
    "version": 3
   },
   "file_extension": ".py",
   "mimetype": "text/x-python",
   "name": "python",
   "nbconvert_exporter": "python",
   "pygments_lexer": "ipython3",
   "version": "3.11.3"
  }
 },
 "nbformat": 4,
 "nbformat_minor": 4
}
