{
 "cells": [
  {
   "cell_type": "code",
   "execution_count": 7,
   "metadata": {},
   "outputs": [],
   "source": [
    "import uuid\n",
    "\n",
    "import chromadb\n",
    "import pandas as pd"
   ]
  },
  {
   "cell_type": "code",
   "execution_count": 3,
   "metadata": {},
   "outputs": [
    {
     "name": "stderr",
     "output_type": "stream",
     "text": [
      "Using embedded DuckDB without persistence: data will be transient\n",
      "No embedding_function provided, using default embedding function: SentenceTransformerEmbeddingFunction\n"
     ]
    }
   ],
   "source": [
    "client = chromadb.Client()\n",
    "\n",
    "commits = client.create_collection(\"commits\")"
   ]
  },
  {
   "cell_type": "code",
   "execution_count": 9,
   "metadata": {},
   "outputs": [],
   "source": [
    "df = pd.read_csv(\"data/processed/commits.csv\")\n",
    "\n",
    "labels = df[\"label\"].tolist()\n",
    "messages = df[\"message\"].tolist()\n",
    "metadatas = df[\"metadata\"].tolist()\n",
    "metadatas = [eval(metadata) for metadata in metadatas]\n",
    "\n",
    "commits.add(\n",
    "    ids=[str(uuid.uuid4()) for _ in range(len(messages))],\n",
    "    documents=messages,\n",
    "    metadatas=metadatas,\n",
    ")"
   ]
  },
  {
   "cell_type": "code",
   "execution_count": 11,
   "metadata": {},
   "outputs": [
    {
     "name": "stdout",
     "output_type": "stream",
     "text": [
      "{'distances': [[1.2005469799041748, 1.331397294998169, 1.3401741981506348]],\n",
      " 'documents': [[\"Don't overflow the output length in EVP_CipherUpdate calls\\n\"\n",
      "                '\\n'\n",
      "                'CVE-2021-23840\\n'\n",
      "                '\\n'\n",
      "                'Reviewed-by: Paul Dale <pauli@openssl.org>',\n",
      "                'lib/iov_iter: initialize \"flags\" in new pipe_buffer\\n'\n",
      "                '\\n'\n",
      "                'The functions copy_page_to_iter_pipe() and push_pipe() can '\n",
      "                'both\\n'\n",
      "                'allocate a new pipe_buffer, but the \"flags\" member '\n",
      "                'initializer is\\n'\n",
      "                'missing.\\n'\n",
      "                '\\n'\n",
      "                'Fixes: 241699cd72a8 (\"new iov_iter flavour: pipe-backed\")\\n'\n",
      "                'To: Alexander Viro <viro@zeniv.linux.org.uk>\\n'\n",
      "                'To: linux-fsdevel@vger.kernel.org\\n'\n",
      "                'To: linux-kernel@vger.kernel.org\\n'\n",
      "                'Cc: stable@vger.kernel.org\\n'\n",
      "                'Signed-off-by: Max Kellermann <max.kellermann@ionos.com>\\n'\n",
      "                'Signed-off-by: Al Viro <viro@zeniv.linux.org.uk>',\n",
      "                'io_uring: fix race between timeout flush and removal\\n'\n",
      "                '\\n'\n",
      "                \"io_flush_timeouts() assumes the timeout isn't in progress of \"\n",
      "                'triggering\\n'\n",
      "                'or being removed/canceled, so it unconditionally removes it '\n",
      "                'from the\\n'\n",
      "                'timeout list and attempts to cancel it.\\n'\n",
      "                '\\n'\n",
      "                'Leave it on the list and let the normal timeout cancelation '\n",
      "                'take care\\n'\n",
      "                'of it.\\n'\n",
      "                '\\n'\n",
      "                'Cc: stable@vger.kernel.org # 5.5+\\n'\n",
      "                'Signed-off-by: Jens Axboe <axboe@kernel.dk>']],\n",
      " 'embeddings': None,\n",
      " 'ids': [['9065a46d-9802-46b4-b4ab-01d47aec3e27',\n",
      "          '4c463098-5cc7-4a0c-a806-02aaffe9e7bb',\n",
      "          '5f678361-bd0f-4c92-8b52-859e562158ec']],\n",
      " 'metadatas': [[{'cve': 'CVE-2021-23840',\n",
      "                 'hash': '6a51b9e1d0cf0bf8515f7201b68fb0a3482b3dc1',\n",
      "                 'remote': 'https://github.com/openssl/openssl.git '},\n",
      "                {'cve': 'CVE-2022-0847',\n",
      "                 'hash': '9d2231c5d74e13b2a0546fee6737ee4446017903',\n",
      "                 'remote': 'https://github.com/torvalds/linux.git'},\n",
      "                {'cve': 'CVE-2022-29582',\n",
      "                 'hash': 'e677edbcabee849bfdd43f1602bccbecf736a646',\n",
      "                 'remote': 'https://github.com/torvalds/linux.git'}]]}\n"
     ]
    }
   ],
   "source": [
    "results = commits.query(query_texts=\"buffer overflow fix\", n_results=3)\n",
    "\n",
    "from pprint import pprint\n",
    "\n",
    "pprint(results)"
   ]
  }
 ],
 "metadata": {
  "kernelspec": {
   "display_name": "Python 3 (ipykernel)",
   "language": "python",
   "name": "python3"
  },
  "language_info": {
   "codemirror_mode": {
    "name": "ipython",
    "version": 3
   },
   "file_extension": ".py",
   "mimetype": "text/x-python",
   "name": "python",
   "nbconvert_exporter": "python",
   "pygments_lexer": "ipython3",
   "version": "3.11.3"
  }
 },
 "nbformat": 4,
 "nbformat_minor": 4
}
