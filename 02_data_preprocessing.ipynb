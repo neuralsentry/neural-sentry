{
 "cells": [
  {
   "cell_type": "code",
   "execution_count": 1,
   "metadata": {},
   "outputs": [],
   "source": [
    "import os\n",
    "import glob\n",
    "import pandas as pd\n",
    "from datasets import load_dataset, load_from_disk, Dataset, ClassLabel"
   ]
  },
  {
   "attachments": {},
   "cell_type": "markdown",
   "metadata": {},
   "source": [
    "## Pushed to HuggingFace\n"
   ]
  },
  {
   "cell_type": "code",
   "execution_count": null,
   "metadata": {},
   "outputs": [],
   "source": [
    "# Raw Dataset\n",
    "\n",
    "# Convert csv to Apache Arrow format\n",
    "raw_git_commits = load_dataset(\"csv\", data_files=\"./data/commits.csv\")\n",
    "raw_git_commits.save_to_disk(\"./data/raw-git-commits\")\n",
    "\n",
    "# Upload to HuggingFace\n",
    "raw_git_commits = load_from_disk(\"./data/raw-git-commits\")\n",
    "raw_git_commits.push_to_hub(\"neuralsentry/raw-git-commits\")"
   ]
  },
  {
   "cell_type": "code",
   "execution_count": null,
   "metadata": {},
   "outputs": [],
   "source": [
    "# Split Dataset\n",
    "\n",
    "raw_git_commits = load_dataset(\"neuralsentry/raw-git-commits\")\n",
    "git_commits = raw_git_commits[\"train\"].train_test_split(test_size=0.1, seed=420)\n",
    "\n",
    "# Upload to HuggingFace\n",
    "git_commits.push_to_hub(\"neuralsentry/git-commits\")"
   ]
  },
  {
   "cell_type": "code",
   "execution_count": null,
   "metadata": {},
   "outputs": [],
   "source": [
    "# Labelled Dataset\n",
    "\n",
    "# Convert all excels to csv\n",
    "labelled_excels = glob.glob(\"./data/labelled/*.xlsx\")\n",
    "for excel in labelled_excels:\n",
    "    df = pd.read_excel(excel)\n",
    "    df.to_csv(excel.replace(\".xlsx\", \".csv\"), index=False)\n",
    "\n",
    "# Combine all csvs into one dataset\n",
    "labelled_csvs = glob.glob(\"./data/labelled/*.csv\")\n",
    "df = pd.concat([pd.read_csv(csv) for csv in labelled_csvs], ignore_index=True)\n",
    "Dataset.from_pandas(df).save_to_disk(\"./data/git-commits-labelled\")\n",
    "git_commits_labelled = load_from_disk(\"./data/git-commits-labelled\")\n",
    "\n",
    "# Change typeof labels to ClassLabel\n",
    "features = git_commits_labelled.features.copy()\n",
    "features[\"labels\"] = ClassLabel(num_classes=2, names=[\"non-bug\", \"bug\"])\n",
    "git_commits_labelled = git_commits_labelled.cast(features)\n",
    "\n",
    "# Push\n",
    "git_commits_labelled.push_to_hub(\"neuralsentry/git-commits-labelled\")"
   ]
  },
  {
   "attachments": {},
   "cell_type": "markdown",
   "metadata": {},
   "source": [
    "## Data Labelling\n"
   ]
  },
  {
   "cell_type": "code",
   "execution_count": null,
   "metadata": {},
   "outputs": [],
   "source": [
    "raw_datasets = load_dataset(\"neuralsentry/raw-git-commits\", split=\"train\").shuffle(seed=420)"
   ]
  },
  {
   "cell_type": "code",
   "execution_count": null,
   "metadata": {},
   "outputs": [],
   "source": [
    "# Extract commits of each repo\n",
    "\n",
    "remote_urls = raw_datasets.unique(\"remote_url\")\n",
    "repo_names = [os.path.basename(url) for url in remote_urls]\n",
    "\n",
    "for repo_name in repo_names:\n",
    "    raw_datasets.filter(lambda example: repo_name in example[\"remote_url\"]).to_csv(\n",
    "        f\"./data/{repo_name}.csv\"\n",
    "    )"
   ]
  },
  {
   "cell_type": "code",
   "execution_count": null,
   "metadata": {},
   "outputs": [],
   "source": [
    "# Remove already labelled commits\n",
    "\n",
    "for repo_name in repo_names:\n",
    "    path = f\"./data/{repo_name}.csv\"\n",
    "    labelled_path = f\"./data/labelled/{repo_name}.csv\"\n",
    "    if not os.path.exists(labelled_path):\n",
    "        continue\n",
    "    unlabelled_df = pd.read_csv(path)\n",
    "    labelled_df = pd.read_csv(labelled_path)\n",
    "\n",
    "    # remove all rows in unlabelled_df where the sha is in labelled_df\n",
    "    df = unlabelled_df[~unlabelled_df[\"sha\"].isin(labelled_df[\"sha\"])]\n",
    "    df.to_csv(path, index=False)"
   ]
  },
  {
   "attachments": {},
   "cell_type": "markdown",
   "metadata": {},
   "source": [
    "## Data Preprocessing"
   ]
  },
  {
   "cell_type": "code",
   "execution_count": 100,
   "metadata": {},
   "outputs": [
    {
     "name": "stderr",
     "output_type": "stream",
     "text": [
      "Found cached dataset parquet (E:/.cache/huggingface/datasets/neuralsentry___parquet/neuralsentry--raw-git-commits-ed0e6dd27470031f/0.0.0/2a3b91fbd88a2c90d1dbbb32b460cf621d31bd5b05b934492fdef7d8d6f236ec)\n",
      "Loading cached shuffled indices for dataset at E:\\.cache\\huggingface\\datasets\\neuralsentry___parquet\\neuralsentry--raw-git-commits-ed0e6dd27470031f\\0.0.0\\2a3b91fbd88a2c90d1dbbb32b460cf621d31bd5b05b934492fdef7d8d6f236ec\\cache-ae6c39276cb7522a.arrow\n"
     ]
    }
   ],
   "source": [
    "raw_datasets = load_dataset(\"neuralsentry/raw-git-commits\", split=\"train\").shuffle(\n",
    "    seed=420\n",
    ")\n",
    "raw_datasets.set_format(\"pandas\")\n",
    "df = raw_datasets.to_pandas()"
   ]
  },
  {
   "attachments": {},
   "cell_type": "markdown",
   "metadata": {},
   "source": [
    "### Limit Duplicate Commits"
   ]
  },
  {
   "cell_type": "code",
   "execution_count": 135,
   "metadata": {},
   "outputs": [
    {
     "data": {
      "text/html": [
       "<div>\n",
       "<style scoped>\n",
       "    .dataframe tbody tr th:only-of-type {\n",
       "        vertical-align: middle;\n",
       "    }\n",
       "\n",
       "    .dataframe tbody tr th {\n",
       "        vertical-align: top;\n",
       "    }\n",
       "\n",
       "    .dataframe thead th {\n",
       "        text-align: right;\n",
       "    }\n",
       "</style>\n",
       "<table border=\"1\" class=\"dataframe\">\n",
       "  <thead>\n",
       "    <tr style=\"text-align: right;\">\n",
       "      <th></th>\n",
       "      <th>commit_msg</th>\n",
       "      <th>count</th>\n",
       "    </tr>\n",
       "  </thead>\n",
       "  <tbody>\n",
       "    <tr>\n",
       "      <th>0</th>\n",
       "      <td>\\n</td>\n",
       "      <td>8425</td>\n",
       "    </tr>\n",
       "    <tr>\n",
       "      <th>1</th>\n",
       "      <td>...\\n</td>\n",
       "      <td>3315</td>\n",
       "    </tr>\n",
       "    <tr>\n",
       "      <th>2</th>\n",
       "      <td>Update TODO list.\\n</td>\n",
       "      <td>551</td>\n",
       "    </tr>\n",
       "    <tr>\n",
       "      <th>3</th>\n",
       "      <td>pending release\\n</td>\n",
       "      <td>187</td>\n",
       "    </tr>\n",
       "    <tr>\n",
       "      <th>4</th>\n",
       "      <td>Translation updates\\n</td>\n",
       "      <td>164</td>\n",
       "    </tr>\n",
       "    <tr>\n",
       "      <th>...</th>\n",
       "      <td>...</td>\n",
       "      <td>...</td>\n",
       "    </tr>\n",
       "    <tr>\n",
       "      <th>156</th>\n",
       "      <td>Fix incorrect format placeholder\\n</td>\n",
       "      <td>6</td>\n",
       "    </tr>\n",
       "    <tr>\n",
       "      <th>157</th>\n",
       "      <td>Fixed memory leak.\\nCredit to OSS-Fuzz\\n</td>\n",
       "      <td>6</td>\n",
       "    </tr>\n",
       "    <tr>\n",
       "      <th>158</th>\n",
       "      <td>Oops...\\n</td>\n",
       "      <td>6</td>\n",
       "    </tr>\n",
       "    <tr>\n",
       "      <th>159</th>\n",
       "      <td>Buildfix.\\n</td>\n",
       "      <td>6</td>\n",
       "    </tr>\n",
       "    <tr>\n",
       "      <th>160</th>\n",
       "      <td>dummy commit\\n</td>\n",
       "      <td>6</td>\n",
       "    </tr>\n",
       "  </tbody>\n",
       "</table>\n",
       "<p>161 rows × 2 columns</p>\n",
       "</div>"
      ],
      "text/plain": [
       "                                   commit_msg  count\n",
       "0                                          \\n   8425\n",
       "1                                       ...\\n   3315\n",
       "2                         Update TODO list.\\n    551\n",
       "3                           pending release\\n    187\n",
       "4                       Translation updates\\n    164\n",
       "..                                        ...    ...\n",
       "156        Fix incorrect format placeholder\\n      6\n",
       "157  Fixed memory leak.\\nCredit to OSS-Fuzz\\n      6\n",
       "158                                 Oops...\\n      6\n",
       "159                               Buildfix.\\n      6\n",
       "160                            dummy commit\\n      6\n",
       "\n",
       "[161 rows x 2 columns]"
      ]
     },
     "execution_count": 135,
     "metadata": {},
     "output_type": "execute_result"
    }
   ],
   "source": [
    "freq_df = df[\"commit_msg\"].value_counts().to_frame().reset_index()\n",
    "freq_df[freq_df[\"count\"] > 5]"
   ]
  },
  {
   "cell_type": "code",
   "execution_count": 138,
   "metadata": {},
   "outputs": [],
   "source": [
    "def limit_duplicate_rows(limit: int = 5):\n",
    "    def apply(df: pd.DataFrame):\n",
    "        return df.sample(min(len(df), limit))\n",
    "\n",
    "    return apply\n",
    "\n",
    "\n",
    "df = df.groupby(\"commit_msg\").apply(limit_duplicate_rows(5))"
   ]
  },
  {
   "cell_type": "code",
   "execution_count": 148,
   "metadata": {},
   "outputs": [
    {
     "data": {
      "text/html": [
       "<div>\n",
       "<style scoped>\n",
       "    .dataframe tbody tr th:only-of-type {\n",
       "        vertical-align: middle;\n",
       "    }\n",
       "\n",
       "    .dataframe tbody tr th {\n",
       "        vertical-align: top;\n",
       "    }\n",
       "\n",
       "    .dataframe thead th {\n",
       "        text-align: right;\n",
       "    }\n",
       "</style>\n",
       "<table border=\"1\" class=\"dataframe\">\n",
       "  <thead>\n",
       "    <tr style=\"text-align: right;\">\n",
       "      <th></th>\n",
       "      <th>commit_msg</th>\n",
       "      <th>count</th>\n",
       "    </tr>\n",
       "  </thead>\n",
       "  <tbody>\n",
       "  </tbody>\n",
       "</table>\n",
       "</div>"
      ],
      "text/plain": [
       "Empty DataFrame\n",
       "Columns: [commit_msg, count]\n",
       "Index: []"
      ]
     },
     "execution_count": 148,
     "metadata": {},
     "output_type": "execute_result"
    }
   ],
   "source": [
    "freq_df = df[\"commit_msg\"].value_counts().to_frame().reset_index()\n",
    "freq_df[freq_df[\"count\"] > 5]"
   ]
  }
 ],
 "metadata": {
  "kernelspec": {
   "display_name": "Python 3 (ipykernel)",
   "language": "python",
   "name": "python3"
  },
  "language_info": {
   "codemirror_mode": {
    "name": "ipython",
    "version": 3
   },
   "file_extension": ".py",
   "mimetype": "text/x-python",
   "name": "python",
   "nbconvert_exporter": "python",
   "pygments_lexer": "ipython3",
   "version": "3.11.3"
  }
 },
 "nbformat": 4,
 "nbformat_minor": 4
}
