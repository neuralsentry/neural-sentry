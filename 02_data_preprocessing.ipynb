{
 "cells": [
  {
   "cell_type": "code",
   "execution_count": 20,
   "metadata": {},
   "outputs": [],
   "source": [
    "import pandas as pd\n",
    "import numpy as np"
   ]
  },
  {
   "attachments": {},
   "cell_type": "markdown",
   "metadata": {},
   "source": [
    "# 1. Removing empty (NaN) values"
   ]
  },
  {
   "cell_type": "code",
   "execution_count": 2,
   "metadata": {},
   "outputs": [
    {
     "data": {
      "text/plain": [
       "87071"
      ]
     },
     "execution_count": 2,
     "metadata": {},
     "output_type": "execute_result"
    }
   ],
   "source": [
    "# Check for na values\n",
    "df = pd.read_csv(\"data/commits.csv\")\n",
    "df.isnull().sum()\n",
    "len(df)"
   ]
  },
  {
   "cell_type": "code",
   "execution_count": 3,
   "metadata": {},
   "outputs": [],
   "source": [
    "# Dropping all na values (Doesnt have but good practice to still drop)\n",
    "df = df.dropna(how='any')\n",
    "# df = df.drop(columns=['sha', 'remote_url'], axis=1)\n",
    "# df.to_csv('data/message.csv', index=False)"
   ]
  },
  {
   "attachments": {},
   "cell_type": "markdown",
   "metadata": {},
   "source": [
    "# Lower casing all words & dropping rows with column size greater than 512"
   ]
  },
  {
   "cell_type": "code",
   "execution_count": 4,
   "metadata": {},
   "outputs": [
    {
     "data": {
      "text/plain": [
       "82937"
      ]
     },
     "execution_count": 4,
     "metadata": {},
     "output_type": "execute_result"
    }
   ],
   "source": [
    "df['message'] = df['message'].apply(str.lower)\n",
    "df = df[df['message'].str.len() <= 512] # Change the 512 to max context length of your model\n",
    "\n",
    "# longest_string = max(df['message'], key=len)\n",
    "# print(longest_string, len(longest_string))\n",
    "len(df)"
   ]
  },
  {
   "attachments": {},
   "cell_type": "markdown",
   "metadata": {},
   "source": [
    "# Proportionate Stratified Sampling"
   ]
  },
  {
   "cell_type": "code",
   "execution_count": 5,
   "metadata": {},
   "outputs": [
    {
     "name": "stdout",
     "output_type": "stream",
     "text": [
      "https://github.com/apache/httpd: 32270\n",
      "https://github.com/nginx/nginx: 7621\n",
      "https://github.com/openssh/openssh-portable: 11964\n",
      "https://github.com/openssl/openssl: 31082\n"
     ]
    }
   ],
   "source": [
    "# Number of entries per repo\n",
    "repo_types = np.unique(df['remote_url'].tolist())\n",
    "for repo in repo_types:\n",
    "    print(f\"{repo}: {len(df[df['remote_url'] == repo])}\")"
   ]
  },
  {
   "attachments": {},
   "cell_type": "markdown",
   "metadata": {},
   "source": [
    "# Formula: (sample size/population size) × stratum size"
   ]
  },
  {
   "cell_type": "code",
   "execution_count": 8,
   "metadata": {},
   "outputs": [
    {
     "name": "stdout",
     "output_type": "stream",
     "text": [
      "6454\n",
      "Total Sampling Size:  16587\n"
     ]
    }
   ],
   "source": [
    "httpd_sample = df.loc[df['remote_url'] == \"https://github.com/apache/httpd\"]\n",
    "nginx_sample = df.loc[df['remote_url'] == \"https://github.com/nginx/nginx\"]\n",
    "openssh_sample = df.loc[df['remote_url'] == \"https://github.com/openssh/openssh-portable\"]\n",
    "openssl_sample = df.loc[df['remote_url'] == \"https://github.com/openssl/openssl\"]\n",
    "\n",
    "# Sample size of 20%\n",
    "httpd_sample_size = round(0.2 * (len(httpd_sample)))\n",
    "nginx_sample_size = round(0.2 * (len(nginx_sample)))\n",
    "openssh_sample_size = round(0.2 * (len(openssh_sample)))\n",
    "openssl_sample_size = round(0.2 * (len(openssl_sample)))\n",
    "\n",
    "print(httpd_sample_size)\n",
    "print(\"Total Sampling Size: \", httpd_sample_size+nginx_sample_size+openssh_sample_size+openssl_sample_size)"
   ]
  },
  {
   "cell_type": "code",
   "execution_count": 29,
   "metadata": {},
   "outputs": [
    {
     "data": {
      "text/html": [
       "<div>\n",
       "<style scoped>\n",
       "    .dataframe tbody tr th:only-of-type {\n",
       "        vertical-align: middle;\n",
       "    }\n",
       "\n",
       "    .dataframe tbody tr th {\n",
       "        vertical-align: top;\n",
       "    }\n",
       "\n",
       "    .dataframe thead th {\n",
       "        text-align: right;\n",
       "    }\n",
       "</style>\n",
       "<table border=\"1\" class=\"dataframe\">\n",
       "  <thead>\n",
       "    <tr style=\"text-align: right;\">\n",
       "      <th></th>\n",
       "      <th>message</th>\n",
       "      <th>sha</th>\n",
       "      <th>remote_url</th>\n",
       "    </tr>\n",
       "  </thead>\n",
       "  <tbody>\n",
       "    <tr>\n",
       "      <th>64232</th>\n",
       "      <td>* modules/ldap/util_ldap_cache.c (modldap_shme...</td>\n",
       "      <td>54b8395a53f884e60bb9661012890782f9deaa5b</td>\n",
       "      <td>https://github.com/apache/httpd</td>\n",
       "    </tr>\n",
       "    <tr>\n",
       "      <th>50547</th>\n",
       "      <td>aplogno tagging\\n\\ngit-svn-id: https://svn.apa...</td>\n",
       "      <td>aca09955d164fe203d15e03662183d455e9ed92c</td>\n",
       "      <td>https://github.com/apache/httpd</td>\n",
       "    </tr>\n",
       "    <tr>\n",
       "      <th>75743</th>\n",
       "      <td>update the \"bind\" docs, remove the stuff from ...</td>\n",
       "      <td>180ef301d6d26602bb0a59871a8818c14e62968f</td>\n",
       "      <td>https://github.com/apache/httpd</td>\n",
       "    </tr>\n",
       "    <tr>\n",
       "      <th>60633</th>\n",
       "      <td>roll on to 2.3.2.\\n\\n\\ngit-svn-id: https://svn...</td>\n",
       "      <td>ba2883e9b20ab32f47f87e04449b20023a4400e8</td>\n",
       "      <td>https://github.com/apache/httpd</td>\n",
       "    </tr>\n",
       "    <tr>\n",
       "      <th>48229</th>\n",
       "      <td>rebuild\\n\\ngit-svn-id: https://svn.apache.org/...</td>\n",
       "      <td>b59b7bdfa6f6d4248169597cea493c7fa8554f4b</td>\n",
       "      <td>https://github.com/apache/httpd</td>\n",
       "    </tr>\n",
       "    <tr>\n",
       "      <th>...</th>\n",
       "      <td>...</td>\n",
       "      <td>...</td>\n",
       "      <td>...</td>\n",
       "    </tr>\n",
       "    <tr>\n",
       "      <th>72685</th>\n",
       "      <td>fix typos...\\n\\n\\ngit-svn-id: https://svn.apac...</td>\n",
       "      <td>d5fe728b25b8030a7afc93f6d166ce851788640f</td>\n",
       "      <td>https://github.com/apache/httpd</td>\n",
       "    </tr>\n",
       "    <tr>\n",
       "      <th>67009</th>\n",
       "      <td>style\\n\\n\\ngit-svn-id: https://svn.apache.org/...</td>\n",
       "      <td>0b7de2e55c33b41e05b74e0f605446bc03b85602</td>\n",
       "      <td>https://github.com/apache/httpd</td>\n",
       "    </tr>\n",
       "    <tr>\n",
       "      <th>58092</th>\n",
       "      <td>remove those files and enter the html transfor...</td>\n",
       "      <td>f3ac1d322f1ad754228190849fd30e164d276cdb</td>\n",
       "      <td>https://github.com/apache/httpd</td>\n",
       "    </tr>\n",
       "    <tr>\n",
       "      <th>68221</th>\n",
       "      <td>ah, we don't even need the 'ls -1' - 'ls' suff...</td>\n",
       "      <td>f51a3c83cc106cc2de3beadeb2dcf1f27f7a206f</td>\n",
       "      <td>https://github.com/apache/httpd</td>\n",
       "    </tr>\n",
       "    <tr>\n",
       "      <th>56402</th>\n",
       "      <td>update transformations.\\n\\n\\ngit-svn-id: https...</td>\n",
       "      <td>86b13b8ffda64ce7fac90f59de5e30da88d7fc87</td>\n",
       "      <td>https://github.com/apache/httpd</td>\n",
       "    </tr>\n",
       "  </tbody>\n",
       "</table>\n",
       "<p>6454 rows × 3 columns</p>\n",
       "</div>"
      ],
      "text/plain": [
       "                                                 message  \\\n",
       "64232  * modules/ldap/util_ldap_cache.c (modldap_shme...   \n",
       "50547  aplogno tagging\\n\\ngit-svn-id: https://svn.apa...   \n",
       "75743  update the \"bind\" docs, remove the stuff from ...   \n",
       "60633  roll on to 2.3.2.\\n\\n\\ngit-svn-id: https://svn...   \n",
       "48229  rebuild\\n\\ngit-svn-id: https://svn.apache.org/...   \n",
       "...                                                  ...   \n",
       "72685  fix typos...\\n\\n\\ngit-svn-id: https://svn.apac...   \n",
       "67009  style\\n\\n\\ngit-svn-id: https://svn.apache.org/...   \n",
       "58092  remove those files and enter the html transfor...   \n",
       "68221  ah, we don't even need the 'ls -1' - 'ls' suff...   \n",
       "56402  update transformations.\\n\\n\\ngit-svn-id: https...   \n",
       "\n",
       "                                            sha  \\\n",
       "64232  54b8395a53f884e60bb9661012890782f9deaa5b   \n",
       "50547  aca09955d164fe203d15e03662183d455e9ed92c   \n",
       "75743  180ef301d6d26602bb0a59871a8818c14e62968f   \n",
       "60633  ba2883e9b20ab32f47f87e04449b20023a4400e8   \n",
       "48229  b59b7bdfa6f6d4248169597cea493c7fa8554f4b   \n",
       "...                                         ...   \n",
       "72685  d5fe728b25b8030a7afc93f6d166ce851788640f   \n",
       "67009  0b7de2e55c33b41e05b74e0f605446bc03b85602   \n",
       "58092  f3ac1d322f1ad754228190849fd30e164d276cdb   \n",
       "68221  f51a3c83cc106cc2de3beadeb2dcf1f27f7a206f   \n",
       "56402  86b13b8ffda64ce7fac90f59de5e30da88d7fc87   \n",
       "\n",
       "                            remote_url  \n",
       "64232  https://github.com/apache/httpd  \n",
       "50547  https://github.com/apache/httpd  \n",
       "75743  https://github.com/apache/httpd  \n",
       "60633  https://github.com/apache/httpd  \n",
       "48229  https://github.com/apache/httpd  \n",
       "...                                ...  \n",
       "72685  https://github.com/apache/httpd  \n",
       "67009  https://github.com/apache/httpd  \n",
       "58092  https://github.com/apache/httpd  \n",
       "68221  https://github.com/apache/httpd  \n",
       "56402  https://github.com/apache/httpd  \n",
       "\n",
       "[6454 rows x 3 columns]"
      ]
     },
     "execution_count": 29,
     "metadata": {},
     "output_type": "execute_result"
    }
   ],
   "source": [
    "sample_df = df.groupby(\"remote_url\",group_keys=False).apply(lambda x:x.sample(frac=0.2, random_state=1))\n",
    "httpd_sampless = sample_df.loc[df['remote_url'] == \"https://github.com/apache/httpd\"]\n",
    "httpd_sampless"
   ]
  },
  {
   "cell_type": "code",
   "execution_count": null,
   "metadata": {},
   "outputs": [],
   "source": [
    "from transformers import AutoTokenizer, DataCollatorForLanguageModeling\n",
    "import torch\n",
    "from datasets import Dataset"
   ]
  },
  {
   "attachments": {},
   "cell_type": "markdown",
   "metadata": {},
   "source": [
    "# Load the dataset with only the message"
   ]
  },
  {
   "cell_type": "code",
   "execution_count": null,
   "metadata": {},
   "outputs": [
    {
     "data": {
      "text/plain": [
       "Dataset({\n",
       "    features: ['message'],\n",
       "    num_rows: 120637\n",
       "})"
      ]
     },
     "execution_count": 27,
     "metadata": {},
     "output_type": "execute_result"
    }
   ],
   "source": [
    "dataset = Dataset.from_pandas(df)\n",
    "dataset = dataset.remove_columns(['sha','remote_url'])\n",
    "dataset"
   ]
  },
  {
   "attachments": {},
   "cell_type": "markdown",
   "metadata": {},
   "source": [
    "# Tokenizer"
   ]
  },
  {
   "cell_type": "code",
   "execution_count": null,
   "metadata": {},
   "outputs": [
    {
     "data": {
      "application/vnd.jupyter.widget-view+json": {
       "model_id": "ab7bcae62a7849c3bd86f7e104cb4ac8",
       "version_major": 2,
       "version_minor": 0
      },
      "text/plain": [
       "Map:   0%|          | 0/1000 [00:00<?, ? examples/s]"
      ]
     },
     "metadata": {},
     "output_type": "display_data"
    },
    {
     "data": {
      "text/plain": [
       "{'message': 'log an error if bio_write(3) fails\\n\\n\\ngit-svn-id: https://svn.apache.org/repos/asf/httpd/httpd/trunk@1910269 13f79535-47bb-0310-9956-ffa450edef68\\n',\n",
       " 'input_ids': [0,\n",
       "  12376,\n",
       "  41,\n",
       "  5849,\n",
       "  114,\n",
       "  10709,\n",
       "  1215,\n",
       "  29631,\n",
       "  1640,\n",
       "  246,\n",
       "  43,\n",
       "  10578,\n",
       "  50140,\n",
       "  50118,\n",
       "  20901,\n",
       "  12,\n",
       "  36245,\n",
       "  282,\n",
       "  12,\n",
       "  808,\n",
       "  35,\n",
       "  1205,\n",
       "  640,\n",
       "  36245,\n",
       "  282,\n",
       "  4,\n",
       "  48530,\n",
       "  4,\n",
       "  1957,\n",
       "  73,\n",
       "  241,\n",
       "  11474,\n",
       "  73,\n",
       "  281,\n",
       "  506,\n",
       "  73,\n",
       "  8166,\n",
       "  417,\n",
       "  73,\n",
       "  8166,\n",
       "  417,\n",
       "  73,\n",
       "  4328,\n",
       "  6435,\n",
       "  1039,\n",
       "  1646,\n",
       "  698,\n",
       "  31416,\n",
       "  508,\n",
       "  506,\n",
       "  36346,\n",
       "  2022,\n",
       "  12,\n",
       "  3706,\n",
       "  14141,\n",
       "  12,\n",
       "  3933,\n",
       "  698,\n",
       "  12,\n",
       "  2831,\n",
       "  4419,\n",
       "  12,\n",
       "  3145,\n",
       "  102,\n",
       "  13872,\n",
       "  196,\n",
       "  4550,\n",
       "  4671,\n",
       "  50118,\n",
       "  2,\n",
       "  1,\n",
       "  1,\n",
       "  1,\n",
       "  1,\n",
       "  1,\n",
       "  1,\n",
       "  1,\n",
       "  1,\n",
       "  1,\n",
       "  1,\n",
       "  1,\n",
       "  1,\n",
       "  1,\n",
       "  1,\n",
       "  1,\n",
       "  1,\n",
       "  1,\n",
       "  1,\n",
       "  1,\n",
       "  1,\n",
       "  1,\n",
       "  1,\n",
       "  1,\n",
       "  1,\n",
       "  1,\n",
       "  1,\n",
       "  1,\n",
       "  1,\n",
       "  1,\n",
       "  1,\n",
       "  1,\n",
       "  1,\n",
       "  1,\n",
       "  1,\n",
       "  1,\n",
       "  1,\n",
       "  1,\n",
       "  1,\n",
       "  1,\n",
       "  1,\n",
       "  1,\n",
       "  1,\n",
       "  1,\n",
       "  1,\n",
       "  1,\n",
       "  1,\n",
       "  1,\n",
       "  1,\n",
       "  1,\n",
       "  1,\n",
       "  1,\n",
       "  1,\n",
       "  1,\n",
       "  1,\n",
       "  1,\n",
       "  1,\n",
       "  1,\n",
       "  1],\n",
       " 'attention_mask': [1,\n",
       "  1,\n",
       "  1,\n",
       "  1,\n",
       "  1,\n",
       "  1,\n",
       "  1,\n",
       "  1,\n",
       "  1,\n",
       "  1,\n",
       "  1,\n",
       "  1,\n",
       "  1,\n",
       "  1,\n",
       "  1,\n",
       "  1,\n",
       "  1,\n",
       "  1,\n",
       "  1,\n",
       "  1,\n",
       "  1,\n",
       "  1,\n",
       "  1,\n",
       "  1,\n",
       "  1,\n",
       "  1,\n",
       "  1,\n",
       "  1,\n",
       "  1,\n",
       "  1,\n",
       "  1,\n",
       "  1,\n",
       "  1,\n",
       "  1,\n",
       "  1,\n",
       "  1,\n",
       "  1,\n",
       "  1,\n",
       "  1,\n",
       "  1,\n",
       "  1,\n",
       "  1,\n",
       "  1,\n",
       "  1,\n",
       "  1,\n",
       "  1,\n",
       "  1,\n",
       "  1,\n",
       "  1,\n",
       "  1,\n",
       "  1,\n",
       "  1,\n",
       "  1,\n",
       "  1,\n",
       "  1,\n",
       "  1,\n",
       "  1,\n",
       "  1,\n",
       "  1,\n",
       "  1,\n",
       "  1,\n",
       "  1,\n",
       "  1,\n",
       "  1,\n",
       "  1,\n",
       "  1,\n",
       "  1,\n",
       "  1,\n",
       "  1,\n",
       "  1,\n",
       "  0,\n",
       "  0,\n",
       "  0,\n",
       "  0,\n",
       "  0,\n",
       "  0,\n",
       "  0,\n",
       "  0,\n",
       "  0,\n",
       "  0,\n",
       "  0,\n",
       "  0,\n",
       "  0,\n",
       "  0,\n",
       "  0,\n",
       "  0,\n",
       "  0,\n",
       "  0,\n",
       "  0,\n",
       "  0,\n",
       "  0,\n",
       "  0,\n",
       "  0,\n",
       "  0,\n",
       "  0,\n",
       "  0,\n",
       "  0,\n",
       "  0,\n",
       "  0,\n",
       "  0,\n",
       "  0,\n",
       "  0,\n",
       "  0,\n",
       "  0,\n",
       "  0,\n",
       "  0,\n",
       "  0,\n",
       "  0,\n",
       "  0,\n",
       "  0,\n",
       "  0,\n",
       "  0,\n",
       "  0,\n",
       "  0,\n",
       "  0,\n",
       "  0,\n",
       "  0,\n",
       "  0,\n",
       "  0,\n",
       "  0,\n",
       "  0,\n",
       "  0,\n",
       "  0,\n",
       "  0,\n",
       "  0,\n",
       "  0,\n",
       "  0,\n",
       "  0]}"
      ]
     },
     "execution_count": 22,
     "metadata": {},
     "output_type": "execute_result"
    }
   ],
   "source": [
    "model_name = \"microsoft/codebert-base\" # Change model name to your model\n",
    "tokenizer = AutoTokenizer.from_pretrained(model_name)\n",
    "context_length = 512 # Change to your model max context length\n",
    "\n",
    "def tokenize_pad_and_truncate(texts):\n",
    "    return tokenizer(texts['message'], truncation=True, padding=\"max_length\", max_length=context_length)\n",
    "\n",
    "tokenized_dataset = dataset.map(tokenize_pad_and_truncate, batched=True)\n",
    "tokenized_dataset[0]\n",
    "\n",
    "\n",
    "# inputs = tokenizer('Fix: bug racing event', return_tensors='pt', max_length=5, truncation=True, padding='max_length')\n",
    "# print(inputs)"
   ]
  },
  {
   "cell_type": "code",
   "execution_count": null,
   "metadata": {},
   "outputs": [
    {
     "data": {
      "text/plain": [
       "{'message': 'log an error if BIO_write(3) fails\\n\\n\\ngit-svn-id: https://svn.apache.org/repos/asf/httpd/httpd/trunk@1910269 13f79535-47bb-0310-9956-ffa450edef68\\n'}"
      ]
     },
     "execution_count": 62,
     "metadata": {},
     "output_type": "execute_result"
    }
   ],
   "source": [
    "dataset = Dataset.from_pandas(df)\n",
    "dataset[0]"
   ]
  },
  {
   "cell_type": "code",
   "execution_count": null,
   "metadata": {},
   "outputs": [],
   "source": [
    "model_name = \"microsoft/codebert-base\"\n",
    "tokenizer = AutoTokenizer.from_pretrained(model_name)"
   ]
  }
 ],
 "metadata": {
  "kernelspec": {
   "display_name": "Python 3 (ipykernel)",
   "language": "python",
   "name": "python3"
  },
  "language_info": {
   "codemirror_mode": {
    "name": "ipython",
    "version": 3
   },
   "file_extension": ".py",
   "mimetype": "text/x-python",
   "name": "python",
   "nbconvert_exporter": "python",
   "pygments_lexer": "ipython3",
   "version": "3.10.0"
  }
 },
 "nbformat": 4,
 "nbformat_minor": 4
}
