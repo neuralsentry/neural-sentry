{
 "cells": [
  {
   "cell_type": "code",
   "execution_count": 2,
   "metadata": {},
   "outputs": [],
   "source": [
    "import re\n",
    "import glob\n",
    "from pprint import pprint\n",
    "\n",
    "import pandas as pd\n",
    "from datasets import load_dataset, load_from_disk, Dataset, ClassLabel"
   ]
  },
  {
   "attachments": {},
   "cell_type": "markdown",
   "metadata": {},
   "source": [
    "## Pushed to HuggingFace\n"
   ]
  },
  {
   "attachments": {},
   "cell_type": "markdown",
   "metadata": {},
   "source": [
    "### Raw Dataset\n",
    "\n",
    "https://huggingface.co/datasets/neuralsentry/raw-git-commits\n"
   ]
  },
  {
   "cell_type": "code",
   "execution_count": null,
   "metadata": {},
   "outputs": [],
   "source": [
    "# Convert csv to Apache Arrow format\n",
    "raw_git_commits = load_dataset(\"csv\", data_files=\"./data/commits.csv\")\n",
    "raw_git_commits = raw_git_commits.shuffle(seed=420)\n",
    "raw_git_commits.save_to_disk(\"./data/raw-git-commits\")\n",
    "\n",
    "# Upload to HuggingFace\n",
    "raw_git_commits = load_from_disk(\"./data/raw-git-commits\")\n",
    "raw_git_commits.push_to_hub(\"neuralsentry/raw-git-commits\")"
   ]
  },
  {
   "attachments": {},
   "cell_type": "markdown",
   "metadata": {},
   "source": [
    "### Cleaned Dataset\n",
    "\n",
    "https://huggingface.co/datasets/neuralsentry/git-commits\n"
   ]
  },
  {
   "cell_type": "code",
   "execution_count": null,
   "metadata": {},
   "outputs": [],
   "source": [
    "raw_git_commits = load_dataset(\"neuralsentry/raw-git-commits\", split=\"train\")\n",
    "df = raw_git_commits.to_pandas()"
   ]
  },
  {
   "attachments": {},
   "cell_type": "markdown",
   "metadata": {},
   "source": [
    "#### Remove Uninformative Commits\n"
   ]
  },
  {
   "cell_type": "code",
   "execution_count": 721,
   "metadata": {},
   "outputs": [],
   "source": [
    "only_urls = df[df[\"commit_msg\"].str.contains(r\"^https?://\\S+$\", flags=re.IGNORECASE)]\n",
    "empty_commits = df[df[\"commit_msg\"].str.contains(r\"^[\\s\\.]*$\")]\n",
    "df = df[~df.index.isin(only_urls.index)]\n",
    "df = df[~df.index.isin(empty_commits.index)]\n",
    "\n",
    "# # Export removed commits\n",
    "# only_urls.to_excel(\"./data/only_urls.xlsx\", index=False)\n",
    "# empty_commits[\"commit_msg\"].str.replace(\n",
    "#     \"\\n\", \"\\\\n\"\n",
    "# ).value_counts().to_frame().reset_index().to_excel(\n",
    "#     \"./data/empty_commits.xlsx\", index=False\n",
    "# )"
   ]
  },
  {
   "cell_type": "code",
   "execution_count": null,
   "metadata": {},
   "outputs": [],
   "source": [
    "# Filtering\n",
    "def remove_commits(df: pd.DataFrame, regex_str: str) -> pd.DataFrame:\n",
    "    \"\"\"Filter out rows from dataframe where commit_msg matches regex_str.\"\"\"\n",
    "    # Create a boolean mask of rows where commit_msg does NOT match regex_str\n",
    "    mask = ~df[\"commit_msg\"].str.contains(regex_str, regex=True)\n",
    "    # Use the mask to filter the DataFrame\n",
    "    df_filtered = df[mask]\n",
    "    return df_filtered\n",
    "\n",
    "\n",
    "# Before filtering\n",
    "freq_before_df = df[\"commit_msg\"].value_counts().to_frame().reset_index()\n",
    "freq_before_df[\n",
    "    # Duplicate commit messages\n",
    "    (freq_before_df[\"count\"] > 1)\n",
    "    # Two words or less\n",
    "    & (freq_before_df[\"commit_msg\"].str.split().apply(len) <= 2)\n",
    "]"
   ]
  },
  {
   "attachments": {},
   "cell_type": "markdown",
   "metadata": {},
   "source": [
    "#### Stripping Commit Metadata\n"
   ]
  },
  {
   "cell_type": "code",
   "execution_count": 723,
   "metadata": {},
   "outputs": [
    {
     "name": "stdout",
     "output_type": "stream",
     "text": [
      "('Add a WHATSNEW entry indicating libgpo py deprecation\\n'\n",
      " '\\n'\n",
      " 'BUG: https://bugzilla.samba.org/show_bug.cgi?id=15225\\n'\n",
      " '\\n'\n",
      " 'Signed-off-by: David Mulder <dmulder@samba.org>\\n'\n",
      " 'Reviewed-by: Andrew Bartlett <abartlet@samba.org>\\n')\n",
      "('Add a WHATSNEW entry indicating libgpo py deprecation\\n'\n",
      " '\\n'\n",
      " 'BUG: https://bugzilla.samba.org/show_bug.cgi?id=15225')\n"
     ]
    }
   ],
   "source": [
    "metadata = [\n",
    "    r\"git-svn-id\",\n",
    "    r\"signed-off-by\",\n",
    "    r\"reviewed-by\",\n",
    "    r\"reported-by\",\n",
    "    r\"submitted by\",\n",
    "    r\"github\",\n",
    "    r\"pr\",\n",
    "    r\"discussion\",\n",
    "    r\"author\",\n",
    "    r\"helped-by\",\n",
    "    r\"merged-by\",\n",
    "    r\"openbsd-commit-id\",\n",
    "]\n",
    "metadata_regex = \"|\".join(metadata)\n",
    "metadata_regex = r\"\\n+(\" + metadata_regex + r\"): .*\"\n",
    "stripped = df.copy()\n",
    "stripped[\"commit_msg\"] = (\n",
    "    stripped[\"commit_msg\"]\n",
    "    .str.replace(metadata_regex, \"\", regex=True, flags=re.IGNORECASE)\n",
    "    .str.strip()\n",
    ")\n",
    "pprint(\n",
    "    df[df[\"sha\"] == \"c80affe0f192db9f851b5ed0617586783a02a82d\"][\"commit_msg\"].values[0]\n",
    ")\n",
    "pprint(\n",
    "    stripped[stripped[\"sha\"] == \"c80affe0f192db9f851b5ed0617586783a02a82d\"][\n",
    "        \"commit_msg\"\n",
    "    ].values[0]\n",
    ")"
   ]
  },
  {
   "cell_type": "code",
   "execution_count": null,
   "metadata": {},
   "outputs": [],
   "source": [
    "metadata_freq = (\n",
    "    df[\"commit_msg\"]\n",
    "    .str.extractall(r\"\\n([\\w\\-]+):.*\")\n",
    "    .value_counts()\n",
    "    .to_frame()\n",
    "    .reset_index()\n",
    ")\n",
    "metadata_freq[metadata_freq[\"count\"] > 50]"
   ]
  },
  {
   "cell_type": "code",
   "execution_count": null,
   "metadata": {},
   "outputs": [],
   "source": [
    "metadata_freq = (\n",
    "    stripped[\"commit_msg\"]\n",
    "    .str.extractall(r\"\\n([\\w\\-]+):.*\")\n",
    "    .value_counts()\n",
    "    .to_frame()\n",
    "    .reset_index()\n",
    ")\n",
    "metadata_freq[metadata_freq[\"count\"] > 50]"
   ]
  },
  {
   "cell_type": "code",
   "execution_count": null,
   "metadata": {},
   "outputs": [],
   "source": [
    "git_commits = Dataset.from_pandas(stripped, preserve_index=False)\n",
    "git_commits.push_to_hub(\"neuralsentry/git-commits\")"
   ]
  },
  {
   "attachments": {},
   "cell_type": "markdown",
   "metadata": {},
   "source": [
    "### Labelled Dataset\n",
    "\n",
    "https://huggingface.co/datasets/neuralsentry/git-commits-labelled\n"
   ]
  },
  {
   "cell_type": "code",
   "execution_count": null,
   "metadata": {},
   "outputs": [],
   "source": [
    "# Use this code block if any modifications are made to `neuralsentry/git-commits`\n",
    "git_commits = load_dataset(\"neuralsentry/git-commits\", split=\"train\").to_pandas()\n",
    "\n",
    "df = pd.read_csv(\"data/labelled.csv\")\n",
    "\n",
    "# This will merge the updated cleaned dataset (`neuralsentry/git-commits`) with the labelled dataset\n",
    "merged_df = pd.merge(df, git_commits[[\"sha\", \"commit_msg\"]], on=\"sha\", how=\"left\")\n",
    "merged_df = merged_df.drop(columns=[\"commit_msg_x\"])\n",
    "merged_df = merged_df.rename(columns={\"commit_msg_y\": \"commit_msg\"})\n",
    "cols = merged_df.columns.tolist()\n",
    "cols.insert(0, cols.pop(cols.index('commit_msg')))\n",
    "merged_df = merged_df[cols]\n"
   ]
  },
  {
   "cell_type": "code",
   "execution_count": null,
   "metadata": {},
   "outputs": [],
   "source": [
    "git_commits_bugfixes = Dataset.from_pandas(merged_df, preserve_index=False)\n",
    "features = git_commits_bugfixes.features.copy()\n",
    "features[\"labels\"] = ClassLabel(num_classes=2, names=[\"non-bugfix\", \"bugfix\"])\n",
    "git_commits_labelled = git_commits_bugfixes.cast(features)\n",
    "git_commits_bugfixes.push_to_hub(\"neuralsentry/git-commit-bugfixes\")"
   ]
  },
  {
   "cell_type": "code",
   "execution_count": 83,
   "metadata": {},
   "outputs": [
    {
     "data": {
      "text/plain": [
       "{'commit_msg': Value(dtype='string', id=None),\n",
       " 'sha': Value(dtype='string', id=None),\n",
       " 'remote_url': Value(dtype='string', id=None),\n",
       " 'date': Value(dtype='string', id=None),\n",
       " 'labels': ClassLabel(names=['non-bugfix', 'bugfix'], id=None)}"
      ]
     },
     "execution_count": 83,
     "metadata": {},
     "output_type": "execute_result"
    }
   ],
   "source": [
    "git_commits_labelled.features"
   ]
  }
 ],
 "metadata": {
  "kernelspec": {
   "display_name": "Python 3 (ipykernel)",
   "language": "python",
   "name": "python3"
  },
  "language_info": {
   "codemirror_mode": {
    "name": "ipython",
    "version": 3
   },
   "file_extension": ".py",
   "mimetype": "text/x-python",
   "name": "python",
   "nbconvert_exporter": "python",
   "pygments_lexer": "ipython3",
   "version": "3.11.3"
  }
 },
 "nbformat": 4,
 "nbformat_minor": 4
}
