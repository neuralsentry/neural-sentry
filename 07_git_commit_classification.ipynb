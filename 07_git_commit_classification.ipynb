{
 "cells": [
  {
   "cell_type": "code",
   "execution_count": 2,
   "metadata": {},
   "outputs": [],
   "source": [
    "import os\n",
    "import requests\n",
    "import pandas as pd\n",
    "from datasets import load_dataset\n",
    "from transformers import AutoModelForSequenceClassification, AutoTokenizer\n",
    "from git import Repo"
   ]
  },
  {
   "cell_type": "code",
   "execution_count": 18,
   "metadata": {},
   "outputs": [],
   "source": [
    "CHECKPOINT = \"neuralsentry/starencoder-finetuned-class\"\n",
    "\n",
    "model = AutoModelForSequenceClassification.from_pretrained(CHECKPOINT)\n",
    "tokenizer = AutoTokenizer.from_pretrained(CHECKPOINT)"
   ]
  },
  {
   "cell_type": "code",
   "execution_count": 34,
   "metadata": {},
   "outputs": [
    {
     "data": {
      "text/plain": [
       "<git.repo.base.Repo 'd:\\\\Projects\\\\neural-sentry\\\\test\\\\repos\\\\redis\\\\.git'>"
      ]
     },
     "execution_count": 34,
     "metadata": {},
     "output_type": "execute_result"
    }
   ],
   "source": [
    "Repo.clone_from(\"https://github.com/redis/redis\", \"test/repos/redis\")"
   ]
  },
  {
   "cell_type": "code",
   "execution_count": 39,
   "metadata": {},
   "outputs": [],
   "source": [
    "repo = Repo(\"test/repos/redis\")"
   ]
  },
  {
   "cell_type": "code",
   "execution_count": 40,
   "metadata": {},
   "outputs": [],
   "source": [
    "TARGET_BUG_COMMITS = 50\n",
    "buggy_commits = []"
   ]
  },
  {
   "cell_type": "code",
   "execution_count": 43,
   "metadata": {},
   "outputs": [
    {
     "name": "stdout",
     "output_type": "stream",
     "text": [
      "[+] Found 10 buggy commits\n",
      "[-] Found \"Fix typos in comments (#12338)\n",
      "\n",
      " non-buggy commit\"\n",
      "[+] Found 11 buggy commits\n",
      "[+] Found 12 buggy commits\n",
      "[+] Found 13 buggy commits\n",
      "[-] Found \"Align RM_ReplyWithErrorFormat with RM_ReplyWithErr... non-buggy commit\"\n",
      "[+] Found 14 buggy commits\n",
      "[+] Found 15 buggy commits\n",
      "[+] Found 16 buggy commits\n",
      "[+] Found 17 buggy commits\n",
      "[-] Found \"Fix ZRANK/ZREVRANK reply_schema description (#1233... non-buggy commit\"\n",
      "[-] Found \"Doc indentation fix for the --functions-rdb option... non-buggy commit\"\n",
      "[+] Found 18 buggy commits\n",
      "[-] Found \"Add ability for modules to know which client is be... non-buggy commit\"\n",
      "[+] Found 19 buggy commits\n",
      "[-] Found \"Optimize PSUBSCRIBE and PUNSUBSCRIBE from O(N*M) t... non-buggy commit\"\n",
      "[+] Found 20 buggy commits\n",
      "[-] Found \"Cluster human readable nodename feature  (#9564)\n",
      "\n",
      "... non-buggy commit\"\n",
      "[+] Found 21 buggy commits\n",
      "[+] Found 22 buggy commits\n",
      "[-] Found \"Removing duplicated tests (#12318)\n",
      "\n",
      "In 4ba47d2d2 t... non-buggy commit\"\n",
      "[+] Found 23 buggy commits\n",
      "[+] Found 24 buggy commits\n",
      "[+] Found 25 buggy commits\n",
      "[+] Found 26 buggy commits\n",
      "[-] Found \"Removing the duplicate test case (#12310)\n",
      "\n",
      "Looks l... non-buggy commit\"\n",
      "[-] Found \"Allow cluster slots/shards api to respond during l... non-buggy commit\"\n",
      "[+] Found 27 buggy commits\n",
      "[+] Found 28 buggy commits\n",
      "[+] Found 29 buggy commits\n",
      "[+] Found 30 buggy commits\n",
      "[+] Found 31 buggy commits\n",
      "[+] Found 32 buggy commits\n",
      "[+] Found 33 buggy commits\n",
      "[-] Found \"Merge pull request #12254 from yossigo/hiredis-ref... non-buggy commit\"\n",
      "[-] Found \"Use std=gnu11 instead of std=c11. (#12253)\n",
      "\n",
      "Adding... non-buggy commit\"\n",
      "[-] Found \"Update deps/README.md.\n",
      "\n",
      "* We patch hiredis rather ... non-buggy commit\"\n",
      "[-] Found \"Merge commit 'fad6c713c26d6e4f2dd867db4d341c7abe0f... non-buggy commit\"\n",
      "[+] Found 34 buggy commits\n",
      "[+] Found 35 buggy commits\n",
      "[+] Found 36 buggy commits\n",
      "[+] Found 37 buggy commits\n",
      "[+] Found 38 buggy commits\n",
      "[+] Found 39 buggy commits\n",
      "[+] Found 40 buggy commits\n",
      "[+] Found 41 buggy commits\n",
      "[-] Found \"[BUG] Incorrect error msg for XREAD command (#1223... non-buggy commit\"\n",
      "[+] Found 42 buggy commits\n",
      "[-] Found \"Add new loglevel nothing to sentinel-config.json (... non-buggy commit\"\n",
      "[-] Found \"Fix typo functoin -> function (#12218)\n",
      "\n",
      "functoin -... non-buggy commit\"\n",
      "[-] Found \"Make a light weight version (default) of DEBUG HTS... non-buggy commit\"\n",
      "[-] Found \"CI to validate commands.def is up to date (#12227)... non-buggy commit\"\n",
      "[+] Found 43 buggy commits\n",
      "[+] Found 44 buggy commits\n",
      "[-] Found \"Sync the new loglevel nothing to sentinel (#12223)... non-buggy commit\"\n",
      "[+] Found 45 buggy commits\n",
      "[-] Found \"Exclude aux fields from \"cluster nodes\" and \"clust... non-buggy commit\"\n",
      "[-] Found \"add a new loglevel 'nothing' to disable logging (#... non-buggy commit\"\n",
      "[+] Found 46 buggy commits\n",
      "[+] Found 47 buggy commits\n",
      "[+] Found 48 buggy commits\n",
      "[+] Found 49 buggy commits\n",
      "[+] Found 50 buggy commits\n"
     ]
    }
   ],
   "source": [
    "for commit in repo.iter_commits():\n",
    "    commit_msg = commit.message\n",
    "    outputs = model(\n",
    "        **tokenizer(commit_msg, return_tensors=\"pt\", truncation=True, max_length=512)\n",
    "    )\n",
    "    logits = outputs.logits\n",
    "    pred = logits.argmax().item()\n",
    "    if pred == 1:\n",
    "        buggy_commits.append(commit)\n",
    "        print(f\"[+] Found {len(buggy_commits)} buggy commits\")\n",
    "    else:\n",
    "        print(\n",
    "            f'[-] Found \"{commit_msg[:50] + \"...\" if len(commit_msg) > 50 else commit_msg} non-buggy commit\"'\n",
    "        )\n",
    "\n",
    "    if len(buggy_commits) == TARGET_BUG_COMMITS:\n",
    "        break"
   ]
  },
  {
   "cell_type": "code",
   "execution_count": 35,
   "metadata": {},
   "outputs": [],
   "source": [
    "commit_msgs = [commit.message for commit in buggy_commits]\n",
    "df = pd.DataFrame(commit_msgs, columns=[\"commit_msg\"])"
   ]
  },
  {
   "cell_type": "code",
   "execution_count": 37,
   "metadata": {},
   "outputs": [
    {
     "data": {
      "text/html": [
       "<div>\n",
       "<style scoped>\n",
       "    .dataframe tbody tr th:only-of-type {\n",
       "        vertical-align: middle;\n",
       "    }\n",
       "\n",
       "    .dataframe tbody tr th {\n",
       "        vertical-align: top;\n",
       "    }\n",
       "\n",
       "    .dataframe thead th {\n",
       "        text-align: right;\n",
       "    }\n",
       "</style>\n",
       "<table border=\"1\" class=\"dataframe\">\n",
       "  <thead>\n",
       "    <tr style=\"text-align: right;\">\n",
       "      <th></th>\n",
       "      <th>commit_msg</th>\n",
       "    </tr>\n",
       "  </thead>\n",
       "  <tbody>\n",
       "    <tr>\n",
       "      <th>0</th>\n",
       "      <td>Modules: Unblock from within a timer coverage ...</td>\n",
       "    </tr>\n",
       "    <tr>\n",
       "      <th>1</th>\n",
       "      <td>Print strerror when bio initialization fails (...</td>\n",
       "    </tr>\n",
       "    <tr>\n",
       "      <th>2</th>\n",
       "      <td>Improve moduleBlockClient timeout overflow han...</td>\n",
       "    </tr>\n",
       "    <tr>\n",
       "      <th>3</th>\n",
       "      <td>Make nodename test more consistent (#12330)\\n\\...</td>\n",
       "    </tr>\n",
       "    <tr>\n",
       "      <th>4</th>\n",
       "      <td>Fix broken protocol when PUBLISH emits local p...</td>\n",
       "    </tr>\n",
       "    <tr>\n",
       "      <th>5</th>\n",
       "      <td>use embedded string object and more efficient ...</td>\n",
       "    </tr>\n",
       "    <tr>\n",
       "      <th>6</th>\n",
       "      <td>zrangeGenericCommand add check for negative of...</td>\n",
       "    </tr>\n",
       "    <tr>\n",
       "      <th>7</th>\n",
       "      <td>adding geo command edge cases tests (#12274)\\n...</td>\n",
       "    </tr>\n",
       "    <tr>\n",
       "      <th>8</th>\n",
       "      <td>Sanitizer reported memory leak for '--invalid'...</td>\n",
       "    </tr>\n",
       "    <tr>\n",
       "      <th>9</th>\n",
       "      <td>Fix cluster human_nodename Getter data loss in...</td>\n",
       "    </tr>\n",
       "  </tbody>\n",
       "</table>\n",
       "</div>"
      ],
      "text/plain": [
       "                                          commit_msg\n",
       "0  Modules: Unblock from within a timer coverage ...\n",
       "1  Print strerror when bio initialization fails (...\n",
       "2  Improve moduleBlockClient timeout overflow han...\n",
       "3  Make nodename test more consistent (#12330)\\n\\...\n",
       "4  Fix broken protocol when PUBLISH emits local p...\n",
       "5  use embedded string object and more efficient ...\n",
       "6  zrangeGenericCommand add check for negative of...\n",
       "7  adding geo command edge cases tests (#12274)\\n...\n",
       "8  Sanitizer reported memory leak for '--invalid'...\n",
       "9  Fix cluster human_nodename Getter data loss in..."
      ]
     },
     "execution_count": 37,
     "metadata": {},
     "output_type": "execute_result"
    }
   ],
   "source": [
    "df.head(10)"
   ]
  }
 ],
 "metadata": {
  "kernelspec": {
   "display_name": "venv",
   "language": "python",
   "name": "python3"
  },
  "language_info": {
   "codemirror_mode": {
    "name": "ipython",
    "version": 3
   },
   "file_extension": ".py",
   "mimetype": "text/x-python",
   "name": "python",
   "nbconvert_exporter": "python",
   "pygments_lexer": "ipython3",
   "version": "3.11.3"
  },
  "orig_nbformat": 4
 },
 "nbformat": 4,
 "nbformat_minor": 2
}
