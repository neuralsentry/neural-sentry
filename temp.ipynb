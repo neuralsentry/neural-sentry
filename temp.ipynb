{
 "cells": [
  {
   "cell_type": "code",
   "execution_count": null,
   "metadata": {},
   "outputs": [],
   "source": []
  },
  {
   "cell_type": "markdown",
   "metadata": {},
   "source": [
    "## Download Data Sources (Git Repos)\n"
   ]
  },
  {
   "cell_type": "code",
   "execution_count": null,
   "metadata": {},
   "outputs": [],
   "source": [
    "import shutil\n",
    "\n",
    "\n",
    "def delfile():\n",
    "    shutil.rmtree(\"content/cNoside_nextjs-mantine-template\")"
   ]
  },
  {
   "cell_type": "code",
   "execution_count": null,
   "metadata": {},
   "outputs": [],
   "source": [
    "import ipywidgets as widgets\n",
    "from IPython.display import display\n",
    "from rich import inspect\n",
    "from rich.progress import track\n",
    "from time import sleep\n",
    "from git import Repo\n",
    "\n",
    "DEFAULT_REPOS = [\n",
    "    \"https://github.com/cNoside/nextjs-mantine-template\",\n",
    "    # \"https://github.com/torvalds/linux\"\n",
    "]\n",
    "\n",
    "REPO_DIR = \"repos\"\n",
    "\n",
    "textarea = widgets.Textarea(\n",
    "    value=\"\\n\".join(DEFAULT_REPOS), layout=widgets.Layout(height=\"100%\", width=\"auto\")\n",
    ")\n",
    "\n",
    "download_btn = widgets.Button(description=\"Download\", button_style=\"info\")\n",
    "\n",
    "\n",
    "def download_repos(btn):\n",
    "    repo_urls = textarea.value.split(\"\\n\")\n",
    "    repo_names = [\"_\".join(url.split(\"/\")[-2:]) for url in repo_urls]\n",
    "\n",
    "    print(repo_names)\n",
    "\n",
    "    for i, url in enumerate(track(repo_urls, description=\"Downloading...\")):\n",
    "        try:\n",
    "            Repo.clone_from(url, f\"{REPO_DIR}/{repo_names[i]}\")\n",
    "        except Exception:\n",
    "            print(f\"ERROR cloning {url}\")\n",
    "            inspect(Exception)\n",
    "\n",
    "\n",
    "download_btn.on_click(download_repos)\n",
    "\n",
    "print(\"Repository URLs\")\n",
    "display(textarea, download_btn)"
   ]
  },
  {
   "cell_type": "code",
   "execution_count": null,
   "metadata": {},
   "outputs": [],
   "source": [
    "from git import Repo\n",
    "\n",
    "repo_urls = textarea.value.split(\"\\n\")\n",
    "repo_names = [\"_\".join(url.split(\"/\")[-2:]) for url in repo_urls]\n",
    "\n",
    "Repo.clone_from(repo_urls[0], repo_names[0])"
   ]
  }
 ],
 "metadata": {
  "language_info": {
   "name": "python"
  },
  "orig_nbformat": 4
 },
 "nbformat": 4,
 "nbformat_minor": 2
}
