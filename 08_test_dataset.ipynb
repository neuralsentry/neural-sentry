{
 "cells": [
  {
   "cell_type": "code",
   "execution_count": 4,
   "metadata": {},
   "outputs": [],
   "source": [
    "import requests\n",
    "import json\n",
    "\n",
    "import numpy as np\n",
    "from tqdm import tqdm\n",
    "import pandas as pd\n",
    "from git import Repo, Commit"
   ]
  },
  {
   "cell_type": "code",
   "execution_count": 3,
   "metadata": {},
   "outputs": [],
   "source": [
    "r = requests.get(\"https://raw.githubusercontent.com/nluedtke/linux_kernel_cves/master/data/kernel_cves.json\")\n",
    "with open(\"data/kernel_cves.json\", \"w\") as f:\n",
    "    f.write(r.text)"
   ]
  },
  {
   "cell_type": "code",
   "execution_count": 10,
   "metadata": {},
   "outputs": [],
   "source": [
    "with open(\"data/kernel_cves.json\", \"r\") as f:\n",
    "    kernel_cves = json.load(f)"
   ]
  },
  {
   "cell_type": "code",
   "execution_count": 45,
   "metadata": {},
   "outputs": [],
   "source": [
    "kernel_cves_2015 = [cve for cve in kernel_cves if int(cve.split(\"-\")[1]) >= 2015]\n",
    "cves_with_fixes = [cve for cve in kernel_cves_2015 if kernel_cves[cve].get(\"fixes\") and len(kernel_cves[cve][\"fixes\"]) == 40]"
   ]
  },
  {
   "cell_type": "code",
   "execution_count": null,
   "metadata": {},
   "outputs": [],
   "source": [
    "linux = Repo(\"data/repos/linux\")"
   ]
  },
  {
   "cell_type": "code",
   "execution_count": null,
   "metadata": {},
   "outputs": [],
   "source": [
    "header = True\n",
    "for cve in tqdm(cves_with_fixes):\n",
    "    try:\n",
    "        data = kernel_cves[cve]\n",
    "        sha = data[\"fixes\"]\n",
    "        commit = linux.commit(sha)\n",
    "        output = {\n",
    "            \"commit_msg\": commit.message,\n",
    "            \"sha\": sha,\n",
    "            \"remote_url\": commit.repo.remotes.origin.url,\n",
    "            \"date\": commit.committed_datetime,\n",
    "            \"labels\": 1,\n",
    "        }\n",
    "        df = pd.DataFrame([output])\n",
    "        df.to_csv(f\"data/linux_cves.csv\", mode=\"a\", header=header, index=False)\n",
    "        header = False\n",
    "    except Exception as e:\n",
    "        print(e)\n",
    "        continue"
   ]
  },
  {
   "cell_type": "code",
   "execution_count": null,
   "metadata": {},
   "outputs": [],
   "source": [
    "commits = list(linux.iter_commits(since=\"2015-01-01\", no_merges=True))"
   ]
  },
  {
   "cell_type": "code",
   "execution_count": null,
   "metadata": {},
   "outputs": [],
   "source": [
    "sample_size = 10_000\n",
    "sample: list[Commit] = np.random.choice(commits, sample_size, replace=False)"
   ]
  },
  {
   "cell_type": "code",
   "execution_count": null,
   "metadata": {},
   "outputs": [],
   "source": [
    "header = True\n",
    "for commit in tqdm(sample):\n",
    "    try:\n",
    "        output = {\n",
    "            \"commit_msg\": commit.message,\n",
    "            \"sha\": commit.hexsha,\n",
    "            \"remote_url\": commit.repo.remotes.origin.url,\n",
    "            \"date\": commit.committed_datetime,\n",
    "            \"labels\": -1,\n",
    "        }\n",
    "        df = pd.DataFrame([output])\n",
    "        df.to_csv(f\"data/linux.csv\", mode=\"a\", header=header, index=False)\n",
    "        header = False\n",
    "    except Exception as e:\n",
    "        print(e)\n",
    "        continue"
   ]
  }
 ],
 "metadata": {
  "kernelspec": {
   "display_name": "venv",
   "language": "python",
   "name": "python3"
  },
  "language_info": {
   "codemirror_mode": {
    "name": "ipython",
    "version": 3
   },
   "file_extension": ".py",
   "mimetype": "text/x-python",
   "name": "python",
   "nbconvert_exporter": "python",
   "pygments_lexer": "ipython3",
   "version": "3.11.3"
  },
  "orig_nbformat": 4
 },
 "nbformat": 4,
 "nbformat_minor": 2
}
