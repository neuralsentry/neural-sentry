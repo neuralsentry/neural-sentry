{
 "cells": [
  {
   "cell_type": "code",
   "execution_count": 67,
   "metadata": {},
   "outputs": [],
   "source": [
    "import torch\n",
    "from rich import print\n",
    "from rich.table import Table\n",
    "import pandas as pd\n",
    "import numpy as np\n",
    "from tqdm import tqdm\n",
    "from git import Repo\n",
    "from transformers import AutoModelForSequenceClassification, AutoTokenizer\n",
    "from sklearn.metrics import (\n",
    "    confusion_matrix,\n",
    "    accuracy_score,\n",
    "    precision_score,\n",
    "    recall_score,\n",
    "    f1_score,\n",
    "    classification_report,\n",
    ")\n",
    "from optimum.bettertransformer import BetterTransformer"
   ]
  },
  {
   "cell_type": "code",
   "execution_count": 17,
   "metadata": {},
   "outputs": [],
   "source": [
    "df = pd.read_csv(\"data/linux-bugfixes-dataset.csv\")\n",
    "df = df[df[\"labels\"] != -1]"
   ]
  },
  {
   "cell_type": "code",
   "execution_count": 19,
   "metadata": {},
   "outputs": [
    {
     "data": {
      "text/plain": [
       "(2027, 1945)"
      ]
     },
     "execution_count": 19,
     "metadata": {},
     "output_type": "execute_result"
    }
   ],
   "source": [
    "df[df[\"labels\"] == 1].value_counts(\"sha\").to_frame().reset_index()\n",
    "\n",
    "# remove duplicates based on sha\n",
    "len(df), len(df.drop_duplicates(subset=[\"sha\"]))"
   ]
  },
  {
   "cell_type": "code",
   "execution_count": null,
   "metadata": {},
   "outputs": [],
   "source": [
    "sample_size = 200\n",
    "# take sample_size from labels = 1 and labels = 0, totalling 400\n",
    "sample_df = pd.concat(\n",
    "    [\n",
    "        df[df[\"labels\"] == 1].sample(sample_size),\n",
    "        df[df[\"labels\"] == 0].sample(sample_size),\n",
    "    ]\n",
    ")\n",
    "# shuffle\n",
    "sample_df = sample_df.sample(frac=1).reset_index(drop=True)\n",
    "sample_df"
   ]
  },
  {
   "cell_type": "code",
   "execution_count": 60,
   "metadata": {},
   "outputs": [],
   "source": [
    "# sample_df.to_csv(\"200_samples_linux_bugfixes_labelled.csv\", index=False)"
   ]
  },
  {
   "cell_type": "code",
   "execution_count": 114,
   "metadata": {},
   "outputs": [
    {
     "data": {
      "text/plain": [
       "Ellipsis"
      ]
     },
     "execution_count": 114,
     "metadata": {},
     "output_type": "execute_result"
    }
   ],
   "source": [
    "checkpoint = \"neuralsentry/starencoder-finetuned-class\" # 500 commits\n",
    "# checkpoint = \"neuralsentry/starencoder-git-commit-bugfix-classification\" # 3000 commits\n",
    "# checkpoint = \"neuralsentry/distilbert-git-commit-bugfix-classification\" # 3000 commits\n",
    "\n",
    "model = AutoModelForSequenceClassification.from_pretrained(checkpoint)\n",
    "model = BetterTransformer.transform(model)\n",
    "tokenizer = AutoTokenizer.from_pretrained(checkpoint)\n",
    "device = torch.device(\"cuda\")\n",
    "model.to(device)\n",
    "..."
   ]
  },
  {
   "cell_type": "code",
   "execution_count": 107,
   "metadata": {},
   "outputs": [
    {
     "name": "stderr",
     "output_type": "stream",
     "text": [
      "100%|██████████| 400/400 [00:00<00:00, 514.64it/s]\n"
     ]
    }
   ],
   "source": [
    "commits = sample_df[\"commit_msg\"].tolist()\n",
    "bugfix_threshold = 0.5\n",
    "batch_size = 32\n",
    "\n",
    "batch = []\n",
    "probabilities = []\n",
    "predictions = []\n",
    "labels = sample_df[\"labels\"].tolist()\n",
    "for i, commit in enumerate(tqdm(commits)):\n",
    "    batch.append(commit)\n",
    "\n",
    "    if len(batch) == batch_size:\n",
    "        inputs = tokenizer(\n",
    "            batch,\n",
    "            return_tensors=\"pt\",\n",
    "            padding=True,\n",
    "            truncation=True,\n",
    "            max_length=256,\n",
    "        )\n",
    "        inputs.to(device)\n",
    "        outputs = model(**inputs)\n",
    "        logits = outputs.logits\n",
    "        probs = torch.softmax(logits, dim=1)\n",
    "        probabilities.extend(probs.tolist())\n",
    "        batch = []\n",
    "\n",
    "# handle last batch if sample_size not divisible by batch_size\n",
    "if len(batch) > 0:\n",
    "    inputs = tokenizer(\n",
    "        batch,\n",
    "        return_tensors=\"pt\",\n",
    "        padding=True,\n",
    "        truncation=True,\n",
    "        max_length=256,\n",
    "    )\n",
    "    inputs.to(device)\n",
    "    outputs = model(**inputs)\n",
    "    logits = outputs.logits\n",
    "    probs = torch.softmax(logits, dim=1)\n",
    "    probabilities.extend(probs.tolist())\n",
    "\n",
    "predictions = [1 if p[1] > bugfix_threshold else 0 for p in probabilities]"
   ]
  },
  {
   "cell_type": "code",
   "execution_count": 98,
   "metadata": {},
   "outputs": [],
   "source": [
    "# calculate metrics\n",
    "report = classification_report(\n",
    "    labels,\n",
    "    predictions,\n",
    "    target_names=[\"non-bugfix\", \"bugfix\"],\n",
    ")\n",
    "\n",
    "confusion_matrix_metric = confusion_matrix(\n",
    "    labels,\n",
    "    predictions,\n",
    ")\n",
    "\n",
    "accuracy_metric = accuracy_score(\n",
    "    labels,\n",
    "    predictions,\n",
    ")"
   ]
  },
  {
   "cell_type": "code",
   "execution_count": 100,
   "metadata": {},
   "outputs": [
    {
     "data": {
      "text/html": [
       "<pre style=\"white-space:pre;overflow-x:auto;line-height:normal;font-family:Menlo,'DejaVu Sans Mono',consolas,'Courier New',monospace\">&gt;&gt;&gt; Confusion Matrix: \n",
       "TP: <span style=\"color: #008080; text-decoration-color: #008080; font-weight: bold\">190</span>, FP: <span style=\"color: #008080; text-decoration-color: #008080; font-weight: bold\">27</span> \n",
       "FN: <span style=\"color: #008080; text-decoration-color: #008080; font-weight: bold\">10</span>, TN: <span style=\"color: #008080; text-decoration-color: #008080; font-weight: bold\">173</span> \n",
       "\n",
       "&gt;&gt;&gt; Accuracy:  <span style=\"color: #008080; text-decoration-color: #008080; font-weight: bold\">0.9075</span> \n",
       "\n",
       "&gt;&gt;&gt;: Classification Report:\n",
       "               precision    recall  f1-score   support\n",
       "\n",
       "  non-bugfix       <span style=\"color: #008080; text-decoration-color: #008080; font-weight: bold\">0.95</span>      <span style=\"color: #008080; text-decoration-color: #008080; font-weight: bold\">0.86</span>      <span style=\"color: #008080; text-decoration-color: #008080; font-weight: bold\">0.90</span>       <span style=\"color: #008080; text-decoration-color: #008080; font-weight: bold\">200</span>\n",
       "      bugfix       <span style=\"color: #008080; text-decoration-color: #008080; font-weight: bold\">0.88</span>      <span style=\"color: #008080; text-decoration-color: #008080; font-weight: bold\">0.95</span>      <span style=\"color: #008080; text-decoration-color: #008080; font-weight: bold\">0.91</span>       <span style=\"color: #008080; text-decoration-color: #008080; font-weight: bold\">200</span>\n",
       "\n",
       "    accuracy                           <span style=\"color: #008080; text-decoration-color: #008080; font-weight: bold\">0.91</span>       <span style=\"color: #008080; text-decoration-color: #008080; font-weight: bold\">400</span>\n",
       "   macro avg       <span style=\"color: #008080; text-decoration-color: #008080; font-weight: bold\">0.91</span>      <span style=\"color: #008080; text-decoration-color: #008080; font-weight: bold\">0.91</span>      <span style=\"color: #008080; text-decoration-color: #008080; font-weight: bold\">0.91</span>       <span style=\"color: #008080; text-decoration-color: #008080; font-weight: bold\">400</span>\n",
       "weighted avg       <span style=\"color: #008080; text-decoration-color: #008080; font-weight: bold\">0.91</span>      <span style=\"color: #008080; text-decoration-color: #008080; font-weight: bold\">0.91</span>      <span style=\"color: #008080; text-decoration-color: #008080; font-weight: bold\">0.91</span>       <span style=\"color: #008080; text-decoration-color: #008080; font-weight: bold\">400</span>\n",
       "\n",
       "</pre>\n"
      ],
      "text/plain": [
       ">>> Confusion Matrix: \n",
       "TP: \u001b[1;36m190\u001b[0m, FP: \u001b[1;36m27\u001b[0m \n",
       "FN: \u001b[1;36m10\u001b[0m, TN: \u001b[1;36m173\u001b[0m \n",
       "\n",
       ">>> Accuracy:  \u001b[1;36m0.9075\u001b[0m \n",
       "\n",
       ">>>: Classification Report:\n",
       "               precision    recall  f1-score   support\n",
       "\n",
       "  non-bugfix       \u001b[1;36m0.95\u001b[0m      \u001b[1;36m0.86\u001b[0m      \u001b[1;36m0.90\u001b[0m       \u001b[1;36m200\u001b[0m\n",
       "      bugfix       \u001b[1;36m0.88\u001b[0m      \u001b[1;36m0.95\u001b[0m      \u001b[1;36m0.91\u001b[0m       \u001b[1;36m200\u001b[0m\n",
       "\n",
       "    accuracy                           \u001b[1;36m0.91\u001b[0m       \u001b[1;36m400\u001b[0m\n",
       "   macro avg       \u001b[1;36m0.91\u001b[0m      \u001b[1;36m0.91\u001b[0m      \u001b[1;36m0.91\u001b[0m       \u001b[1;36m400\u001b[0m\n",
       "weighted avg       \u001b[1;36m0.91\u001b[0m      \u001b[1;36m0.91\u001b[0m      \u001b[1;36m0.91\u001b[0m       \u001b[1;36m400\u001b[0m\n",
       "\n"
      ]
     },
     "metadata": {},
     "output_type": "display_data"
    }
   ],
   "source": [
    "# StarEncoder (500 commits)\n",
    "\n",
    "print(\n",
    "    \">>> Confusion Matrix:\",\n",
    "    f\"\\nTP: {confusion_matrix_metric[1][1]}, FP: {confusion_matrix_metric[0][1]}\",\n",
    "    f\"\\nFN: {confusion_matrix_metric[1][0]}, TN: {confusion_matrix_metric[0][0]}\",\n",
    "    \"\\n\\n>>> Accuracy: \",\n",
    "    accuracy_metric,\n",
    "    \"\\n\\n>>>: Classification Report:\\n\",\n",
    "    report\n",
    ")"
   ]
  },
  {
   "cell_type": "code",
   "execution_count": 83,
   "metadata": {},
   "outputs": [
    {
     "data": {
      "text/html": [
       "<pre style=\"white-space:pre;overflow-x:auto;line-height:normal;font-family:Menlo,'DejaVu Sans Mono',consolas,'Courier New',monospace\">&gt;&gt;&gt; Confusion Matrix: \n",
       "TP: <span style=\"color: #008080; text-decoration-color: #008080; font-weight: bold\">180</span>, FP: <span style=\"color: #008080; text-decoration-color: #008080; font-weight: bold\">10</span> \n",
       "FN: <span style=\"color: #008080; text-decoration-color: #008080; font-weight: bold\">20</span>, TN: <span style=\"color: #008080; text-decoration-color: #008080; font-weight: bold\">190</span> \n",
       "\n",
       "&gt;&gt;&gt; Accuracy:  <span style=\"color: #008080; text-decoration-color: #008080; font-weight: bold\">0.925</span> \n",
       "\n",
       "&gt;&gt;&gt;: Classification Report:\n",
       "               precision    recall  f1-score   support\n",
       "\n",
       "  non-bugfix       <span style=\"color: #008080; text-decoration-color: #008080; font-weight: bold\">0.90</span>      <span style=\"color: #008080; text-decoration-color: #008080; font-weight: bold\">0.95</span>      <span style=\"color: #008080; text-decoration-color: #008080; font-weight: bold\">0.93</span>       <span style=\"color: #008080; text-decoration-color: #008080; font-weight: bold\">200</span>\n",
       "      bugfix       <span style=\"color: #008080; text-decoration-color: #008080; font-weight: bold\">0.95</span>      <span style=\"color: #008080; text-decoration-color: #008080; font-weight: bold\">0.90</span>      <span style=\"color: #008080; text-decoration-color: #008080; font-weight: bold\">0.92</span>       <span style=\"color: #008080; text-decoration-color: #008080; font-weight: bold\">200</span>\n",
       "\n",
       "    accuracy                           <span style=\"color: #008080; text-decoration-color: #008080; font-weight: bold\">0.93</span>       <span style=\"color: #008080; text-decoration-color: #008080; font-weight: bold\">400</span>\n",
       "   macro avg       <span style=\"color: #008080; text-decoration-color: #008080; font-weight: bold\">0.93</span>      <span style=\"color: #008080; text-decoration-color: #008080; font-weight: bold\">0.93</span>      <span style=\"color: #008080; text-decoration-color: #008080; font-weight: bold\">0.92</span>       <span style=\"color: #008080; text-decoration-color: #008080; font-weight: bold\">400</span>\n",
       "weighted avg       <span style=\"color: #008080; text-decoration-color: #008080; font-weight: bold\">0.93</span>      <span style=\"color: #008080; text-decoration-color: #008080; font-weight: bold\">0.93</span>      <span style=\"color: #008080; text-decoration-color: #008080; font-weight: bold\">0.92</span>       <span style=\"color: #008080; text-decoration-color: #008080; font-weight: bold\">400</span>\n",
       "\n",
       "</pre>\n"
      ],
      "text/plain": [
       ">>> Confusion Matrix: \n",
       "TP: \u001b[1;36m180\u001b[0m, FP: \u001b[1;36m10\u001b[0m \n",
       "FN: \u001b[1;36m20\u001b[0m, TN: \u001b[1;36m190\u001b[0m \n",
       "\n",
       ">>> Accuracy:  \u001b[1;36m0.925\u001b[0m \n",
       "\n",
       ">>>: Classification Report:\n",
       "               precision    recall  f1-score   support\n",
       "\n",
       "  non-bugfix       \u001b[1;36m0.90\u001b[0m      \u001b[1;36m0.95\u001b[0m      \u001b[1;36m0.93\u001b[0m       \u001b[1;36m200\u001b[0m\n",
       "      bugfix       \u001b[1;36m0.95\u001b[0m      \u001b[1;36m0.90\u001b[0m      \u001b[1;36m0.92\u001b[0m       \u001b[1;36m200\u001b[0m\n",
       "\n",
       "    accuracy                           \u001b[1;36m0.93\u001b[0m       \u001b[1;36m400\u001b[0m\n",
       "   macro avg       \u001b[1;36m0.93\u001b[0m      \u001b[1;36m0.93\u001b[0m      \u001b[1;36m0.92\u001b[0m       \u001b[1;36m400\u001b[0m\n",
       "weighted avg       \u001b[1;36m0.93\u001b[0m      \u001b[1;36m0.93\u001b[0m      \u001b[1;36m0.92\u001b[0m       \u001b[1;36m400\u001b[0m\n",
       "\n"
      ]
     },
     "metadata": {},
     "output_type": "display_data"
    }
   ],
   "source": [
    "# StarEncoder (3000 commits)\n",
    "\n",
    "print(\n",
    "    \">>> Confusion Matrix:\",\n",
    "    f\"\\nTP: {confusion_matrix_metric[1][1]}, FP: {confusion_matrix_metric[0][1]}\",\n",
    "    f\"\\nFN: {confusion_matrix_metric[1][0]}, TN: {confusion_matrix_metric[0][0]}\",\n",
    "    \"\\n\\n>>> Accuracy: \",\n",
    "    accuracy_metric,\n",
    "    \"\\n\\n>>>: Classification Report:\\n\",\n",
    "    report\n",
    ")"
   ]
  },
  {
   "cell_type": "code",
   "execution_count": 89,
   "metadata": {},
   "outputs": [
    {
     "data": {
      "text/html": [
       "<pre style=\"white-space:pre;overflow-x:auto;line-height:normal;font-family:Menlo,'DejaVu Sans Mono',consolas,'Courier New',monospace\">&gt;&gt;&gt; Confusion Matrix: \n",
       "TP: <span style=\"color: #008080; text-decoration-color: #008080; font-weight: bold\">187</span>, FP: <span style=\"color: #008080; text-decoration-color: #008080; font-weight: bold\">13</span> \n",
       "FN: <span style=\"color: #008080; text-decoration-color: #008080; font-weight: bold\">13</span>, TN: <span style=\"color: #008080; text-decoration-color: #008080; font-weight: bold\">187</span> \n",
       "\n",
       "&gt;&gt;&gt; Accuracy:  <span style=\"color: #008080; text-decoration-color: #008080; font-weight: bold\">0.935</span> \n",
       "\n",
       "&gt;&gt;&gt;: Classification Report:\n",
       "               precision    recall  f1-score   support\n",
       "\n",
       "  non-bugfix       <span style=\"color: #008080; text-decoration-color: #008080; font-weight: bold\">0.94</span>      <span style=\"color: #008080; text-decoration-color: #008080; font-weight: bold\">0.94</span>      <span style=\"color: #008080; text-decoration-color: #008080; font-weight: bold\">0.94</span>       <span style=\"color: #008080; text-decoration-color: #008080; font-weight: bold\">200</span>\n",
       "      bugfix       <span style=\"color: #008080; text-decoration-color: #008080; font-weight: bold\">0.94</span>      <span style=\"color: #008080; text-decoration-color: #008080; font-weight: bold\">0.94</span>      <span style=\"color: #008080; text-decoration-color: #008080; font-weight: bold\">0.94</span>       <span style=\"color: #008080; text-decoration-color: #008080; font-weight: bold\">200</span>\n",
       "\n",
       "    accuracy                           <span style=\"color: #008080; text-decoration-color: #008080; font-weight: bold\">0.94</span>       <span style=\"color: #008080; text-decoration-color: #008080; font-weight: bold\">400</span>\n",
       "   macro avg       <span style=\"color: #008080; text-decoration-color: #008080; font-weight: bold\">0.94</span>      <span style=\"color: #008080; text-decoration-color: #008080; font-weight: bold\">0.94</span>      <span style=\"color: #008080; text-decoration-color: #008080; font-weight: bold\">0.94</span>       <span style=\"color: #008080; text-decoration-color: #008080; font-weight: bold\">400</span>\n",
       "weighted avg       <span style=\"color: #008080; text-decoration-color: #008080; font-weight: bold\">0.94</span>      <span style=\"color: #008080; text-decoration-color: #008080; font-weight: bold\">0.94</span>      <span style=\"color: #008080; text-decoration-color: #008080; font-weight: bold\">0.94</span>       <span style=\"color: #008080; text-decoration-color: #008080; font-weight: bold\">400</span>\n",
       "\n",
       "</pre>\n"
      ],
      "text/plain": [
       ">>> Confusion Matrix: \n",
       "TP: \u001b[1;36m187\u001b[0m, FP: \u001b[1;36m13\u001b[0m \n",
       "FN: \u001b[1;36m13\u001b[0m, TN: \u001b[1;36m187\u001b[0m \n",
       "\n",
       ">>> Accuracy:  \u001b[1;36m0.935\u001b[0m \n",
       "\n",
       ">>>: Classification Report:\n",
       "               precision    recall  f1-score   support\n",
       "\n",
       "  non-bugfix       \u001b[1;36m0.94\u001b[0m      \u001b[1;36m0.94\u001b[0m      \u001b[1;36m0.94\u001b[0m       \u001b[1;36m200\u001b[0m\n",
       "      bugfix       \u001b[1;36m0.94\u001b[0m      \u001b[1;36m0.94\u001b[0m      \u001b[1;36m0.94\u001b[0m       \u001b[1;36m200\u001b[0m\n",
       "\n",
       "    accuracy                           \u001b[1;36m0.94\u001b[0m       \u001b[1;36m400\u001b[0m\n",
       "   macro avg       \u001b[1;36m0.94\u001b[0m      \u001b[1;36m0.94\u001b[0m      \u001b[1;36m0.94\u001b[0m       \u001b[1;36m400\u001b[0m\n",
       "weighted avg       \u001b[1;36m0.94\u001b[0m      \u001b[1;36m0.94\u001b[0m      \u001b[1;36m0.94\u001b[0m       \u001b[1;36m400\u001b[0m\n",
       "\n"
      ]
     },
     "metadata": {},
     "output_type": "display_data"
    }
   ],
   "source": [
    "# DistilBERT (3000 commits)\n",
    "\n",
    "print(\n",
    "    \">>> Confusion Matrix:\",\n",
    "    f\"\\nTP: {confusion_matrix_metric[1][1]}, FP: {confusion_matrix_metric[0][1]}\",\n",
    "    f\"\\nFN: {confusion_matrix_metric[1][0]}, TN: {confusion_matrix_metric[0][0]}\",\n",
    "    \"\\n\\n>>> Accuracy: \",\n",
    "    accuracy_metric,\n",
    "    \"\\n\\n>>>: Classification Report:\\n\",\n",
    "    report\n",
    ")"
   ]
  }
 ],
 "metadata": {
  "kernelspec": {
   "display_name": "venv",
   "language": "python",
   "name": "python3"
  },
  "language_info": {
   "codemirror_mode": {
    "name": "ipython",
    "version": 3
   },
   "file_extension": ".py",
   "mimetype": "text/x-python",
   "name": "python",
   "nbconvert_exporter": "python",
   "pygments_lexer": "ipython3",
   "version": "3.11.3"
  },
  "orig_nbformat": 4
 },
 "nbformat": 4,
 "nbformat_minor": 2
}
