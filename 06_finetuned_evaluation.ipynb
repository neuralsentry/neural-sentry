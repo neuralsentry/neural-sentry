{
 "cells": [
  {
   "cell_type": "code",
   "execution_count": 1,
   "metadata": {},
   "outputs": [],
   "source": [
    "import math\n",
    "\n",
    "import torch\n",
    "import numpy as np\n",
    "from datasets import load_dataset, Dataset\n",
    "from transformers import (\n",
    "    AutoTokenizer,\n",
    "    AutoModelForMaskedLM,\n",
    "    AutoModelForSequenceClassification,\n",
    "    DataCollatorForLanguageModeling,\n",
    "    DataCollatorWithPadding,\n",
    "    TrainingArguments,\n",
    "    Trainer,\n",
    ")\n",
    "from transformers.trainer_utils import EvalPrediction\n",
    "from sklearn.metrics import accuracy_score, precision_score, recall_score, f1_score\n",
    "\n",
    "from lib.trainer import get_trainer\n",
    "from utils import (\n",
    "    prepare_starncoder_tokenizer,\n",
    "    get_latest_checkpoint,\n",
    "    concat_tokens_to_chunks,\n",
    ")\n",
    "from config import BaseConfig, MLMConfig"
   ]
  },
  {
   "cell_type": "code",
   "execution_count": null,
   "metadata": {},
   "outputs": [],
   "source": [
    "# Checkpoints\n",
    "MODEL_CHECKPOINT = \"neuralsentry/starencoder-finetuned-class\"\n",
    "TOKENIZER_CHECKPOINT = \"neuralsentry/starencoder-finetuned-class\"\n",
    "\n",
    "# Prepare Models\n",
    "model = AutoModelForSequenceClassification.from_pretrained(MODEL_CHECKPOINT)\n",
    "tokenizer = prepare_starncoder_tokenizer(TOKENIZER_CHECKPOINT)\n",
    "\n",
    "# Prepare Config\n",
    "model_name = f\"starencoder-finetuned-class\"\n",
    "config = MLMConfig(\n",
    "    NUM_TRAIN_EPOCHS=20,\n",
    "    BATCH_SIZE=32,\n",
    "    MAX_INPUT_LENGTH=512,\n",
    "    PUSH_TO_HUB=True,\n",
    "    HUB_MODEL_ID=f\"neuralsentry/{model_name}\",\n",
    ")\n",
    "\n",
    "# Prepare Datasets\n",
    "raw_dataset = load_dataset(\"neuralsentry/git-commits-labelled\", split=\"train\")\n",
    "tokenized_dataset = raw_dataset.map(\n",
    "    lambda x: tokenizer(\n",
    "        x[\"commit_msg\"], truncation=True, max_length=config.MAX_INPUT_LENGTH\n",
    "    ),\n",
    "    batched=True,\n",
    "    remove_columns=[\"commit_msg\", \"sha\", \"remote_url\", \"date\"],\n",
    ")\n",
    "split_dataset = tokenized_dataset.train_test_split(\n",
    "    train_size=config.TRAIN_SIZE, test_size=config.EVAL_SIZE, seed=420\n",
    ")\n",
    "train_dataset = split_dataset[\"train\"]\n",
    "eval_dataset = split_dataset[\"test\"]\n",
    "\n",
    "# Prepare Training\n",
    "data_collator = DataCollatorWithPadding(tokenizer=tokenizer)\n",
    "training_args = TrainingArguments(\n",
    "    output_dir=f\"./models/{model_name}\",\n",
    "    overwrite_output_dir=True,\n",
    "    learning_rate=config.LEARNING_RATE,\n",
    "    weight_decay=config.WEIGHT_DECAY,\n",
    "    per_device_train_batch_size=config.BATCH_SIZE,\n",
    "    per_device_eval_batch_size=config.BATCH_SIZE,\n",
    "    fp16=config.FP16,\n",
    "    evaluation_strategy=\"epoch\",\n",
    "    num_train_epochs=config.NUM_TRAIN_EPOCHS,\n",
    "    logging_steps=math.floor(\n",
    "        (len(train_dataset) // config.BATCH_SIZE) * config.LOGGING_STEPS\n",
    "    ),\n",
    "    save_strategy=\"epoch\",\n",
    "    push_to_hub=config.PUSH_TO_HUB,\n",
    "    hub_model_id=config.HUB_MODEL_ID,\n",
    ")\n",
    "\n",
    "\n",
    "def compute_metrics(pred: EvalPrediction):\n",
    "    preds = np.argmax(pred.predictions[0], axis=-1)\n",
    "    precision = precision_score(y_true=pred.label_ids, y_pred=preds)\n",
    "    recall = recall_score(y_true=pred.label_ids, y_pred=preds)\n",
    "    f1 = f1_score(y_true=pred.label_ids, y_pred=preds)\n",
    "    accuracy = accuracy_score(y_true=pred.label_ids, y_pred=preds)\n",
    "\n",
    "    return {\n",
    "        \"accuracy\": accuracy,\n",
    "        \"precision\": precision,\n",
    "        \"recall\": recall,\n",
    "        \"f1\": f1,\n",
    "    }\n",
    "\n",
    "\n",
    "trainer = Trainer(\n",
    "    model=model,\n",
    "    args=training_args,\n",
    "    data_collator=data_collator,\n",
    "    tokenizer=tokenizer,\n",
    "    train_dataset=train_dataset,\n",
    "    eval_dataset=eval_dataset,\n",
    "    compute_metrics=compute_metrics,\n",
    ")"
   ]
  },
  {
   "cell_type": "code",
   "execution_count": 5,
   "metadata": {},
   "outputs": [
    {
     "name": "stderr",
     "output_type": "stream",
     "text": [
      "You're using a GPT2TokenizerFast tokenizer. Please note that with a fast tokenizer, using the `__call__` method is faster than using a method to encode the text followed by a call to the `pad` method to get a padded encoding.\n"
     ]
    },
    {
     "data": {
      "application/vnd.jupyter.widget-view+json": {
       "model_id": "33c697f1451d44e78df1d1ccaa8afddb",
       "version_major": 2,
       "version_minor": 0
      },
      "text/plain": [
       "  0%|          | 0/3 [00:00<?, ?it/s]"
      ]
     },
     "metadata": {},
     "output_type": "display_data"
    },
    {
     "data": {
      "text/plain": [
       "{'eval_loss': 0.4350101947784424,\n",
       " 'eval_accuracy': 0.8961038961038961,\n",
       " 'eval_precision': 0.8604651162790697,\n",
       " 'eval_recall': 0.9487179487179487,\n",
       " 'eval_f1': 0.9024390243902439,\n",
       " 'eval_runtime': 0.676,\n",
       " 'eval_samples_per_second': 113.905,\n",
       " 'eval_steps_per_second': 4.438}"
      ]
     },
     "execution_count": 5,
     "metadata": {},
     "output_type": "execute_result"
    }
   ],
   "source": [
    "trainer.evaluate()"
   ]
  }
 ],
 "metadata": {
  "kernelspec": {
   "display_name": "venv",
   "language": "python",
   "name": "python3"
  },
  "language_info": {
   "codemirror_mode": {
    "name": "ipython",
    "version": 3
   },
   "file_extension": ".py",
   "mimetype": "text/x-python",
   "name": "python",
   "nbconvert_exporter": "python",
   "pygments_lexer": "ipython3",
   "version": "3.11.3"
  },
  "orig_nbformat": 4
 },
 "nbformat": 4,
 "nbformat_minor": 2
}
