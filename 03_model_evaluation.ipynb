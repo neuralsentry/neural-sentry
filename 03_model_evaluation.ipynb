{
 "cells": [
  {
   "attachments": {},
   "cell_type": "markdown",
   "metadata": {},
   "source": [
    "## Evaluation Output Format\n",
    "\n",
    "```csv\n",
    "# csv\n",
    "message,accuracy,label\n",
    "example message,0.8,1\n",
    "```"
   ]
  },
  {
   "attachments": {},
   "cell_type": "markdown",
   "metadata": {},
   "source": [
    "## FLAN-T5"
   ]
  },
  {
   "cell_type": "code",
   "execution_count": null,
   "metadata": {},
   "outputs": [],
   "source": []
  },
  {
   "attachments": {},
   "cell_type": "markdown",
   "metadata": {},
   "source": [
    "## CodeGen"
   ]
  },
  {
   "cell_type": "code",
   "execution_count": null,
   "metadata": {},
   "outputs": [],
   "source": []
  },
  {
   "attachments": {},
   "cell_type": "markdown",
   "metadata": {},
   "source": [
    "## CodeTrans\n",
    "\n",
    "- [Paper](https://arxiv.org/abs/2104.02443)\n",
    "- [GitHub](https://github.com/agemagician/CodeTrans)\n",
    "- [HuggingFace](https://huggingface.co/models?search=code_trans)\n",
    "- [Datasets](https://www.dropbox.com/sh/mzxa2dq30gnot29/AABIf7wPxH5Oe0PZHJ5jPV22a?dl=0)\n",
    "\n",
    "### Overview\n",
    "\n",
    "- Released 2023\n",
    "- Architecture\n",
    "  - Encoder-decoder (based on T5)\n",
    "- Learning Objective\n",
    "  - Text-to-text\n",
    "- Variants\n",
    "  - Function Documentation Generation (Python, Java, Go, Php, Ruby, JavaScript)\n",
    "    - [CodeSearchNet Corpus Collection](https://github.com/github/CodeSearchNet) Dataset\n",
    "  - Source Code Summarization (Python, SQL, C#)\n",
    "    - [CODENN StackOverflow](https://github.com/sriniiyer/codenn) Dataset\n",
    "  - Code Comment Generation (Java only)\n",
    "    - [DeepCom](https://github.com/xing-hu/DeepCom) Dataset\n",
    "  - Commit Message Generation (Java only)\n",
    "    - [CommitGen](https://sjiang1.github.io/commitgen) Dataset\n",
    "  - API Sequence Recommendation (Java only)\n",
    "    - [Deep API Learning](https://github.com/guxd/deepAPI) Dataset\n",
    "  - Programming Language and Synthesis (LISP only)\n",
    "    - [AlgoLisp](https://github.com/nearai/program_synthesis/tree/master/program_synthesis/algolisp) Dataset\n",
    "\n",
    "### Pros\n",
    "\n",
    "- Multiple Variants Trained to Perform Specific Tasks\n",
    "- Source Code Summarization Model Trained on C#\n",
    "- Transformer-based Encoder-Decoder Model\n",
    "  - Good for Sequence-to-Sequence Tasks (e.g. Summarization, Translation)\n",
    "- Uses and Evaluates Different Training Stratagies\n",
    "  - Single-Task Learning, Transfer Learning, Multi-Task Learning, Multi-Task Learning with Fine-Tuning\n",
    "\n",
    "### Cons\n",
    "\n",
    "- **Not Trained on C dataset**\n",
    "- **Not Trained to Perform Masked Language Modeling**\n",
    "  - Needed for Accurate Text Classification\n",
    "- No Longer State-of-the-Art\n",
    "- **Model is Largely Abandoned**\n",
    "  - Incomplete README, last Git commit on 1 June 2021\n",
    "- Requires more work to prepare data: text-to-text format\n"
   ]
  },
  {
   "cell_type": "code",
   "execution_count": null,
   "metadata": {},
   "outputs": [],
   "source": []
  },
  {
   "attachments": {},
   "cell_type": "markdown",
   "metadata": {},
   "source": [
    "## CodeBert"
   ]
  },
  {
   "cell_type": "code",
   "execution_count": null,
   "metadata": {},
   "outputs": [],
   "source": []
  }
 ],
 "metadata": {
  "kernelspec": {
   "display_name": "Python 3 (ipykernel)",
   "language": "python",
   "name": "python3"
  },
  "language_info": {
   "codemirror_mode": {
    "name": "ipython",
    "version": 3
   },
   "file_extension": ".py",
   "mimetype": "text/x-python",
   "name": "python",
   "nbconvert_exporter": "python",
   "pygments_lexer": "ipython3",
   "version": "3.10.11"
  }
 },
 "nbformat": 4,
 "nbformat_minor": 4
}
