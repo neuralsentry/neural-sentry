{
 "cells": [
  {
   "attachments": {},
   "cell_type": "markdown",
   "metadata": {},
   "source": [
    "# Model Evaluation\n",
    "\n",
    "This notebook will be evaluating the following models:\n",
    "\n",
    "- FLAN-T5\n",
    "- CodeGen\n",
    "- CodeTrans\n",
    "- CodeBert\n",
    "- StarEncoder\n",
    "\n",
    "The architecture, dataset, and training approaches of each model will be\n",
    "discussed. Metrics will also be generated for each model.\n",
    "\n",
    "## Criterias\n",
    "\n",
    "- Trained on C/C++\n",
    "- Trained on Natural Language\n",
    "  - Prefably also with Git commits\n",
    "- Architecture\n",
    "  - Encoder (preferred)\n",
    "  - Decoder\n",
    "- Learning Objective\n",
    "  - Either Masked Language Modelling (MLM) or Casual Language Modelling (CLM)\n",
    "  - Both can be fine-tuned for text classification\n",
    "\n",
    "## Metrics Output\n",
    "\n",
    "### `results.csv`\n",
    "\n",
    "```csv\n",
    "masked_input,prediction,actual\n",
    "```\n",
    "\n",
    "### `confusion_matrix.csv`\n",
    "\n",
    "```csv\n",
    "tp,fp,tn,fn\n",
    "```\n",
    "\n",
    "### `metrics.csv`\n",
    "\n",
    "```csv\n",
    "accuracy,precision,recall,f1\n",
    "```\n"
   ]
  },
  {
   "attachments": {},
   "cell_type": "markdown",
   "metadata": {},
   "source": [
    "## FLAN-T5\n"
   ]
  },
  {
   "cell_type": "code",
   "execution_count": null,
   "metadata": {},
   "outputs": [],
   "source": []
  },
  {
   "attachments": {},
   "cell_type": "markdown",
   "metadata": {},
   "source": [
    "## CodeGen\n",
    "\n",
    "- [Paper](https://arxiv.org/pdf/2203.13474.pdf)\n",
    "- [GitHub](https://github.com/salesforce/CodeGen)\n",
    "- [HuggingFace](https://huggingface.co/docs/transformers/model_doc/codegen)\n",
    "\n",
    "### Overview\n",
    "\n",
    "- Released 2022\n",
    "- Architecure\n",
    "  - Decoder, Autoregressive\n",
    "- Learning Objective\n",
    "  - Next-token Prediction (CLM)\n",
    "- 3 Dataset Stages:\n",
    "  1. CodeGen-NL\n",
    "     - Dataset: The Pile\n",
    "     - Natural Language `1159.04 GB`, `354.7B Tokens`\n",
    "     - Code `95.16 GB`, `31.6B Tokens`\n",
    "  2. CodeGen-Multi\n",
    "     - Dataset: Google BigQuery\n",
    "     - Code `340 GB`, `119.3B Tokens`\n",
    "       - C/C++ `119 GB`, `19.B Tokens`\n",
    "  3. CodeGen-Mono\n",
    "     - Dataset: BigPython\n",
    "     - Code consists of Python, not necessary for our use case\n",
    "- 4 Checkpoints per variant\n",
    "  - 350M, 2.7B, 6.1B, 16.1B\n",
    "\n",
    "#### Pros\n",
    "\n",
    "- Trained on a lot of C/C++\n",
    "- Available checkpoints for small model\n",
    "  - 350M, 2.7B\n",
    "  - Can run on consumer GPUs\n",
    "\n",
    "#### Cons\n",
    "\n",
    "- Architecture not as ideal for text classification fine-tuning\n",
    "- Learning objective is CLM, not MLM\n",
    "  - However, there is a newer version `CodeGen2`, 2023\n",
    "    - Adds MLM training objective\n",
    "    - Encoder-Decoder architecture\n",
    "    - Uses more languages and more data, including C and C++, using `The Stack` dataset\n",
    "- Not explicitly trained on Git commits\n",
    "  - However, it may have slightly learned from the commit messages in `The Pile` dataset\n"
   ]
  },
  {
   "cell_type": "code",
   "execution_count": null,
   "metadata": {},
   "outputs": [],
   "source": []
  },
  {
   "attachments": {},
   "cell_type": "markdown",
   "metadata": {},
   "source": [
    "## CodeTrans\n"
   ]
  },
  {
   "cell_type": "code",
   "execution_count": null,
   "metadata": {},
   "outputs": [],
   "source": []
  },
  {
   "attachments": {},
   "cell_type": "markdown",
   "metadata": {},
   "source": [
    "## CodeBert\n"
   ]
  },
  {
   "cell_type": "code",
   "execution_count": null,
   "metadata": {},
   "outputs": [],
   "source": []
  },
  {
   "attachments": {},
   "cell_type": "markdown",
   "metadata": {},
   "source": [
    "## StarEncoder\n",
    "\n",
    "- [Blog](https://huggingface.co/blog/starcoder)\n",
    "- [Paper](https://arxiv.org/pdf/2305.06161.pdf)\n",
    "- [GitHub](https://github.com/bigcode-project/bigcode-encoder)\n",
    "- [HuggingFace](https://huggingface.co/bigcode/starencoder)\n",
    "- [Dataset](https://huggingface.co/datasets/bigcode/starcoderdata)\n",
    "- [Dataset Search](https://huggingface.co/spaces/bigcode/search)\n",
    "- [Dataset Portrait](https://stack.dataportraits.org/)\n",
    "\n",
    "### Overview\n",
    "\n",
    "- Released 2023\n",
    "- Architecture\n",
    "  - Encoder, Bi-directional (from Bert)\n",
    "- Learning Objective\n",
    "  - MLM\n",
    "  - Next Sentence Prediction (NSP)\n",
    "- Dataset (The Stack, Google BigQuery)\n",
    "  - Natural Language\n",
    "    - GitHub issues `54 GB`\n",
    "    - Git commits `64 GB`\n",
    "  - Code: Over 80 Languages\n",
    "    - C/C++ `103 GB`\n",
    "- 1 Checkpoint\n",
    "  - 125M\n",
    "\n",
    "#### Pros\n",
    "\n",
    "- Trained on a lot of C/C++\n",
    "- Trained on a lot of Git commits and GitHub issues\n",
    "  - Includes linux, httpd, and openssh-portable repositories\n",
    "- Is Encoder Architecture\n",
    "- MLM Learning Objective\n",
    "- Checkpoint is small enough to run on consumer GPUs\n",
    "\n",
    "#### Cons\n",
    "\n",
    "- Some model configuration required to only use the MLM objective\n",
    "  - Uses the training input: `[CLS]{Snippet-1}[SEP]{Snippet-2}[SEP]`\n",
    "  - Solutions:\n",
    "    - Fine-tune the model\n",
    "    - Or, proceed straight to text-classification\n"
   ]
  },
  {
   "cell_type": "code",
   "execution_count": null,
   "metadata": {},
   "outputs": [],
   "source": []
  }
 ],
 "metadata": {
  "kernelspec": {
   "display_name": "Python 3 (ipykernel)",
   "language": "python",
   "name": "python3"
  },
  "language_info": {
   "codemirror_mode": {
    "name": "ipython",
    "version": 3
   },
   "file_extension": ".py",
   "mimetype": "text/x-python",
   "name": "python",
   "nbconvert_exporter": "python",
   "pygments_lexer": "ipython3",
   "version": "3.11.3"
  }
 },
 "nbformat": 4,
 "nbformat_minor": 4
}
