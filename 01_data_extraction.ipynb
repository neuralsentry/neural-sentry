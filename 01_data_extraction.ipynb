{
 "cells": [
  {
   "attachments": {},
   "cell_type": "markdown",
   "metadata": {},
   "source": [
    "# Data Extraction\n"
   ]
  },
  {
   "cell_type": "code",
   "execution_count": null,
   "metadata": {},
   "outputs": [],
   "source": [
    "%load_ext autoreload\n",
    "%autoreload 2"
   ]
  },
  {
   "cell_type": "code",
   "execution_count": null,
   "metadata": {
    "tags": []
   },
   "outputs": [],
   "source": [
    "import os\n",
    "import concurrent.futures\n",
    "\n",
    "import pandas as pd\n",
    "from tqdm import tqdm\n",
    "from git import Commit\n",
    "\n",
    "from utils import clone_or_pull_repo, add_commit_to_csv, add_commits_to_csv"
   ]
  },
  {
   "attachments": {},
   "cell_type": "markdown",
   "metadata": {},
   "source": [
    "## 1. Clone or Pull GitHub Repositories\n",
    "- reads from `/data/repos.txt`"
   ]
  },
  {
   "cell_type": "code",
   "execution_count": null,
   "metadata": {},
   "outputs": [],
   "source": [
    "repo_sources = []\n",
    "\n",
    "with open(\"data/repos.txt\") as f:\n",
    "    for line in f:\n",
    "        repo_sources.append(line.strip())\n",
    "\n",
    "repos = []\n",
    "with concurrent.futures.ThreadPoolExecutor(max_workers=10) as executor:\n",
    "    repos = executor.map(clone_or_pull_repo, repo_sources)\n",
    "repos = list(repos)"
   ]
  },
  {
   "attachments": {},
   "cell_type": "markdown",
   "metadata": {},
   "source": [
    "## 2. Extraction"
   ]
  },
  {
   "attachments": {},
   "cell_type": "markdown",
   "metadata": {},
   "source": [
    "### To CSV"
   ]
  },
  {
   "cell_type": "code",
   "execution_count": null,
   "metadata": {},
   "outputs": [],
   "source": [
    "DESTINATION = \"data/commits.csv\"\n",
    "RETRY_LIMIT = 5\n",
    "INCLUDE_FILES = False"
   ]
  },
  {
   "cell_type": "code",
   "execution_count": null,
   "metadata": {},
   "outputs": [],
   "source": [
    "# Batched\n",
    "commit_count = sum(1 for repo in repos for commit in repo.iter_commits())\n",
    "\n",
    "with tqdm(total=commit_count, desc=f\"Exporting commits to {DESTINATION}\") as pbar:\n",
    "    write_header = not os.path.isfile(DESTINATION) or os.path.getsize(DESTINATION) == 0\n",
    "    for repo in repos:\n",
    "        commits = list(repo.iter_commits())\n",
    "        add_commits_to_csv(\n",
    "            commits,\n",
    "            destination=DESTINATION,\n",
    "            write_header=write_header,\n",
    "            include_files=INCLUDE_FILES,\n",
    "            pbar=pbar,\n",
    "            batch_size=50,\n",
    "        )\n",
    "        write_header = False"
   ]
  },
  {
   "cell_type": "code",
   "execution_count": null,
   "metadata": {},
   "outputs": [],
   "source": [
    "# Unbatched\n",
    "retry_count = 0\n",
    "\n",
    "with tqdm(total=commit_count, desc=\"Exporting commits to CSV\") as pbar:\n",
    "    write_header = not os.path.isfile(DESTINATION) or os.path.getsize(DESTINATION) == 0\n",
    "    for repo in repos:\n",
    "        for commit in repo.iter_commits():\n",
    "            while True:\n",
    "                try:\n",
    "                    add_commit_to_csv(\n",
    "                        commit,\n",
    "                        destination=\"data/commits.csv\",\n",
    "                        write_header=write_header,\n",
    "                        include_files=INCLUDE_FILES,\n",
    "                    )\n",
    "                    pbar.update()\n",
    "                    write_header = False\n",
    "                    break\n",
    "                except Exception as e:\n",
    "                    print(f\"Failed to add commit {commit.hexsha} to CSV, retrying...\")\n",
    "                    retry_count += 1\n",
    "                    if retry_count > RETRY_LIMIT:\n",
    "                        raise e\n",
    "                    continue"
   ]
  },
  {
   "cell_type": "code",
   "execution_count": 77,
   "metadata": {},
   "outputs": [
    {
     "data": {
      "text/html": [
       "<div>\n",
       "<style scoped>\n",
       "    .dataframe tbody tr th:only-of-type {\n",
       "        vertical-align: middle;\n",
       "    }\n",
       "\n",
       "    .dataframe tbody tr th {\n",
       "        vertical-align: top;\n",
       "    }\n",
       "\n",
       "    .dataframe thead th {\n",
       "        text-align: right;\n",
       "    }\n",
       "</style>\n",
       "<table border=\"1\" class=\"dataframe\">\n",
       "  <thead>\n",
       "    <tr style=\"text-align: right;\">\n",
       "      <th></th>\n",
       "      <th>message</th>\n",
       "      <th>sha</th>\n",
       "      <th>remote_url</th>\n",
       "      <th>date</th>\n",
       "      <th>label</th>\n",
       "    </tr>\n",
       "  </thead>\n",
       "  <tbody>\n",
       "    <tr>\n",
       "      <th>0</th>\n",
       "      <td>fixup! if -s &amp; -p specified, mention 'sftp -P'...</td>\n",
       "      <td>2709809fd616a0991dc18e3a58dea10fb383c3f0</td>\n",
       "      <td>https://github.com/openssh/openssh-portable</td>\n",
       "      <td>2023-05-24 19:41:14+02:00</td>\n",
       "      <td>NaN</td>\n",
       "    </tr>\n",
       "    <tr>\n",
       "      <th>1</th>\n",
       "      <td>Make ssh-copy-id(1) consistent with OpenSSH.\\n...</td>\n",
       "      <td>204e0bf05161b7641500d7ab266c21217412379f</td>\n",
       "      <td>https://github.com/openssh/openssh-portable</td>\n",
       "      <td>2021-08-03 21:25:48+10:00</td>\n",
       "      <td>NaN</td>\n",
       "    </tr>\n",
       "    <tr>\n",
       "      <th>2</th>\n",
       "      <td>if -s &amp; -p specified, mention 'sftp -P' on suc...</td>\n",
       "      <td>9de79df66d1430d290fab670bb4b18612875e518</td>\n",
       "      <td>https://github.com/openssh/openssh-portable</td>\n",
       "      <td>2023-05-24 11:45:43+02:00</td>\n",
       "      <td>NaN</td>\n",
       "    </tr>\n",
       "    <tr>\n",
       "      <th>3</th>\n",
       "      <td>drop whitespace\\n\\nSSH-Copy-ID-Upstream: e604f...</td>\n",
       "      <td>801cda54c00e0f4e7d89345a90874c8d05dc233a</td>\n",
       "      <td>https://github.com/openssh/openssh-portable</td>\n",
       "      <td>2023-05-23 23:07:11+02:00</td>\n",
       "      <td>NaN</td>\n",
       "    </tr>\n",
       "    <tr>\n",
       "      <th>4</th>\n",
       "      <td>make -x also apply to the target script\\n\\nSSH...</td>\n",
       "      <td>288482f53613f3e74544eb92deeb24f7c7f1f371</td>\n",
       "      <td>https://github.com/openssh/openssh-portable</td>\n",
       "      <td>2023-05-23 20:52:13+02:00</td>\n",
       "      <td>NaN</td>\n",
       "    </tr>\n",
       "  </tbody>\n",
       "</table>\n",
       "</div>"
      ],
      "text/plain": [
       "                                             message  \\\n",
       "0  fixup! if -s & -p specified, mention 'sftp -P'...   \n",
       "1  Make ssh-copy-id(1) consistent with OpenSSH.\\n...   \n",
       "2  if -s & -p specified, mention 'sftp -P' on suc...   \n",
       "3  drop whitespace\\n\\nSSH-Copy-ID-Upstream: e604f...   \n",
       "4  make -x also apply to the target script\\n\\nSSH...   \n",
       "\n",
       "                                        sha  \\\n",
       "0  2709809fd616a0991dc18e3a58dea10fb383c3f0   \n",
       "1  204e0bf05161b7641500d7ab266c21217412379f   \n",
       "2  9de79df66d1430d290fab670bb4b18612875e518   \n",
       "3  801cda54c00e0f4e7d89345a90874c8d05dc233a   \n",
       "4  288482f53613f3e74544eb92deeb24f7c7f1f371   \n",
       "\n",
       "                                    remote_url                       date  \\\n",
       "0  https://github.com/openssh/openssh-portable  2023-05-24 19:41:14+02:00   \n",
       "1  https://github.com/openssh/openssh-portable  2021-08-03 21:25:48+10:00   \n",
       "2  https://github.com/openssh/openssh-portable  2023-05-24 11:45:43+02:00   \n",
       "3  https://github.com/openssh/openssh-portable  2023-05-23 23:07:11+02:00   \n",
       "4  https://github.com/openssh/openssh-portable  2023-05-23 20:52:13+02:00   \n",
       "\n",
       "   label  \n",
       "0    NaN  \n",
       "1    NaN  \n",
       "2    NaN  \n",
       "3    NaN  \n",
       "4    NaN  "
      ]
     },
     "execution_count": 77,
     "metadata": {},
     "output_type": "execute_result"
    }
   ],
   "source": [
    "df = pd.read_csv(\n",
    "    \"data/commits.csv\", names=[\"message\", \"sha\", \"remote_url\", \"date\", \"label\"]\n",
    ")\n",
    "df.head()"
   ]
  }
 ],
 "metadata": {
  "colab": {
   "collapsed_sections": [
    "CgTBrgzeltDT"
   ],
   "provenance": []
  },
  "kernelspec": {
   "display_name": "Python 3 (ipykernel)",
   "language": "python",
   "name": "python3"
  },
  "language_info": {
   "codemirror_mode": {
    "name": "ipython",
    "version": 3
   },
   "file_extension": ".py",
   "mimetype": "text/x-python",
   "name": "python",
   "nbconvert_exporter": "python",
   "pygments_lexer": "ipython3",
   "version": "3.11.3"
  }
 },
 "nbformat": 4,
 "nbformat_minor": 4
}
