{
 "cells": [
  {
   "attachments": {},
   "cell_type": "markdown",
   "metadata": {},
   "source": [
    "# Data Extraction\n"
   ]
  },
  {
   "cell_type": "code",
   "execution_count": 36,
   "metadata": {
    "tags": []
   },
   "outputs": [],
   "source": [
    "import os\n",
    "import concurrent.futures\n",
    "import itertools\n",
    "\n",
    "import pandas as pd\n",
    "from tqdm import tqdm\n",
    "from git import Commit, Repo\n",
    "from datasets import load_dataset\n",
    "\n",
    "from utils import clone_or_pull_repo, add_commit_to_csv, add_commits_to_csv"
   ]
  },
  {
   "cell_type": "code",
   "execution_count": 33,
   "metadata": {},
   "outputs": [],
   "source": [
    "REPO_LIST = \"./data/repos.txt\"\n",
    "DESTINATION = \"./data/commits.csv\"\n",
    "SINCE = \"2015-01-01\"\n",
    "RETRY_LIMIT = 5\n",
    "INCLUDE_FILES = False"
   ]
  },
  {
   "cell_type": "code",
   "execution_count": null,
   "metadata": {},
   "outputs": [],
   "source": [
    "# Clone/Pull Repos\n",
    "\n",
    "repo_list = []\n",
    "with open(REPO_LIST) as f:\n",
    "    for line in f:\n",
    "        repo_list.append(line.strip())\n",
    "\n",
    "repos = []\n",
    "with concurrent.futures.ThreadPoolExecutor(max_workers=10) as executor:\n",
    "    repos = executor.map(clone_or_pull_repo, repo_list)\n",
    "repos = list(repos)"
   ]
  },
  {
   "cell_type": "code",
   "execution_count": 24,
   "metadata": {},
   "outputs": [
    {
     "name": "stderr",
     "output_type": "stream",
     "text": [
      "Exporting commits to ./data/commits.csv: 100%|██████████| 183108/183108 [2:35:51<00:00, 19.58it/s]  \n"
     ]
    }
   ],
   "source": [
    "# Batched Export\n",
    "commit_count = sum(1 for repo in repos for commit in repo.iter_commits(since=SINCE))\n",
    "\n",
    "with tqdm(total=commit_count, desc=f\"Exporting commits to {DESTINATION}\") as pbar:\n",
    "    is_file_exists = os.path.isfile(DESTINATION)\n",
    "    is_file_empty = is_file_exists and os.path.getsize(DESTINATION) == 0\n",
    "    write_header = not is_file_exists or is_file_empty\n",
    "\n",
    "    for repo in repos:\n",
    "        repo_name = repo.remotes.origin.url.split(\"/\")[-1].split(\".\")[0]\n",
    "        destination = f\"./data/{repo_name}.csv\"\n",
    "        commits = list(repo.iter_commits(since=SINCE))\n",
    "        add_commits_to_csv(\n",
    "            commits,\n",
    "            destination=DESTINATION,\n",
    "            write_header=write_header,\n",
    "            include_files=INCLUDE_FILES,\n",
    "            pbar=pbar,\n",
    "            batch_size=50,\n",
    "        )\n",
    "        write_header = False"
   ]
  },
  {
   "cell_type": "code",
   "execution_count": null,
   "metadata": {},
   "outputs": [],
   "source": [
    "# Unbatched Export\n",
    "\n",
    "retry_count = 0\n",
    "\n",
    "with tqdm(total=commit_count, desc=\"Exporting commits to CSV\") as pbar:\n",
    "    write_header = not os.path.isfile(DESTINATION) or os.path.getsize(DESTINATION) == 0\n",
    "    for repo in repos:\n",
    "        for commit in repo.iter_commits():\n",
    "            while True:\n",
    "                try:\n",
    "                    add_commit_to_csv(\n",
    "                        commit,\n",
    "                        destination=DESTINATION,\n",
    "                        write_header=write_header,\n",
    "                        include_files=INCLUDE_FILES,\n",
    "                    )\n",
    "                    pbar.update()\n",
    "                    write_header = False\n",
    "                    break\n",
    "                except Exception as e:\n",
    "                    print(f\"Failed to add commit {commit.hexsha} to CSV, retrying...\")\n",
    "                    retry_count += 1\n",
    "                    if retry_count > RETRY_LIMIT:\n",
    "                        raise e\n",
    "                    continue"
   ]
  },
  {
   "cell_type": "code",
   "execution_count": 42,
   "metadata": {},
   "outputs": [
    {
     "name": "stderr",
     "output_type": "stream",
     "text": [
      "Found cached dataset csv (E:/.cache/huggingface/datasets/csv/default-9f95ed729e084b78/0.0.0/6954658bab30a358235fa864b05cf819af0e179325c740e4bc853bcc7ec513e1)\n"
     ]
    },
    {
     "data": {
      "text/html": [
       "<div>\n",
       "<style scoped>\n",
       "    .dataframe tbody tr th:only-of-type {\n",
       "        vertical-align: middle;\n",
       "    }\n",
       "\n",
       "    .dataframe tbody tr th {\n",
       "        vertical-align: top;\n",
       "    }\n",
       "\n",
       "    .dataframe thead th {\n",
       "        text-align: right;\n",
       "    }\n",
       "</style>\n",
       "<table border=\"1\" class=\"dataframe\">\n",
       "  <thead>\n",
       "    <tr style=\"text-align: right;\">\n",
       "      <th></th>\n",
       "      <th>commit_msg</th>\n",
       "      <th>sha</th>\n",
       "      <th>remote_url</th>\n",
       "      <th>date</th>\n",
       "      <th>labels</th>\n",
       "    </tr>\n",
       "  </thead>\n",
       "  <tbody>\n",
       "    <tr>\n",
       "      <th>0</th>\n",
       "      <td>Update runner OS version for hardenedmalloc te...</td>\n",
       "      <td>8a6cd08850f576e7527c52a1b086cae82fab290e</td>\n",
       "      <td>https://github.com/openssh/openssh-portable</td>\n",
       "      <td>2023-06-23 09:49:02+10:00</td>\n",
       "      <td>-1</td>\n",
       "    </tr>\n",
       "    <tr>\n",
       "      <th>1</th>\n",
       "      <td>handle sysconf(SC_OPEN_MAX) returning &gt; INT_MA...</td>\n",
       "      <td>cfca6f17e64baed6822bb927ed9f372ce64d9c5b</td>\n",
       "      <td>https://github.com/openssh/openssh-portable</td>\n",
       "      <td>2023-06-22 15:04:03+10:00</td>\n",
       "      <td>-1</td>\n",
       "    </tr>\n",
       "    <tr>\n",
       "      <th>2</th>\n",
       "      <td>upstream: better validate CASignatureAlgorithm...</td>\n",
       "      <td>c1c2ca1365b3f7b626683690bd2c68265f6d8ffd</td>\n",
       "      <td>https://github.com/openssh/openssh-portable</td>\n",
       "      <td>2023-06-21 05:10:26+00:00</td>\n",
       "      <td>-1</td>\n",
       "    </tr>\n",
       "    <tr>\n",
       "      <th>3</th>\n",
       "      <td>upstream: make `ssh -Q CASignatureAlgorithms` ...</td>\n",
       "      <td>4e73cd0f4ab3e5b576c56cac9732da62c8fc0565</td>\n",
       "      <td>https://github.com/openssh/openssh-portable</td>\n",
       "      <td>2023-06-21 05:08:32+00:00</td>\n",
       "      <td>-1</td>\n",
       "    </tr>\n",
       "    <tr>\n",
       "      <th>4</th>\n",
       "      <td>upstream: handle rlimits &gt; INT_MAX (rlim_t is ...</td>\n",
       "      <td>a69062f1695ac9c3c3dea29d3044c72aaa6af0ea</td>\n",
       "      <td>https://github.com/openssh/openssh-portable</td>\n",
       "      <td>2023-06-21 05:06:04+00:00</td>\n",
       "      <td>-1</td>\n",
       "    </tr>\n",
       "  </tbody>\n",
       "</table>\n",
       "</div>"
      ],
      "text/plain": [
       "                                          commit_msg  \\\n",
       "0  Update runner OS version for hardenedmalloc te...   \n",
       "1  handle sysconf(SC_OPEN_MAX) returning > INT_MA...   \n",
       "2  upstream: better validate CASignatureAlgorithm...   \n",
       "3  upstream: make `ssh -Q CASignatureAlgorithms` ...   \n",
       "4  upstream: handle rlimits > INT_MAX (rlim_t is ...   \n",
       "\n",
       "                                        sha  \\\n",
       "0  8a6cd08850f576e7527c52a1b086cae82fab290e   \n",
       "1  cfca6f17e64baed6822bb927ed9f372ce64d9c5b   \n",
       "2  c1c2ca1365b3f7b626683690bd2c68265f6d8ffd   \n",
       "3  4e73cd0f4ab3e5b576c56cac9732da62c8fc0565   \n",
       "4  a69062f1695ac9c3c3dea29d3044c72aaa6af0ea   \n",
       "\n",
       "                                    remote_url                       date  \\\n",
       "0  https://github.com/openssh/openssh-portable  2023-06-23 09:49:02+10:00   \n",
       "1  https://github.com/openssh/openssh-portable  2023-06-22 15:04:03+10:00   \n",
       "2  https://github.com/openssh/openssh-portable  2023-06-21 05:10:26+00:00   \n",
       "3  https://github.com/openssh/openssh-portable  2023-06-21 05:08:32+00:00   \n",
       "4  https://github.com/openssh/openssh-portable  2023-06-21 05:06:04+00:00   \n",
       "\n",
       "   labels  \n",
       "0      -1  \n",
       "1      -1  \n",
       "2      -1  \n",
       "3      -1  \n",
       "4      -1  "
      ]
     },
     "execution_count": 42,
     "metadata": {},
     "output_type": "execute_result"
    }
   ],
   "source": [
    "raw_datasets = load_dataset(\"csv\", data_files=DESTINATION, split=\"train\")\n",
    "raw_datasets.set_format(\"pandas\")\n",
    "df = raw_datasets.to_pandas()\n",
    "df.head()"
   ]
  }
 ],
 "metadata": {
  "colab": {
   "collapsed_sections": [
    "CgTBrgzeltDT"
   ],
   "provenance": []
  },
  "kernelspec": {
   "display_name": "Python 3 (ipykernel)",
   "language": "python",
   "name": "python3"
  },
  "language_info": {
   "codemirror_mode": {
    "name": "ipython",
    "version": 3
   },
   "file_extension": ".py",
   "mimetype": "text/x-python",
   "name": "python",
   "nbconvert_exporter": "python",
   "pygments_lexer": "ipython3",
   "version": "3.11.3"
  }
 },
 "nbformat": 4,
 "nbformat_minor": 4
}
