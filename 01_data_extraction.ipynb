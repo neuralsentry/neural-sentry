{
 "cells": [
  {
   "attachments": {},
   "cell_type": "markdown",
   "metadata": {},
   "source": [
    "# Data Extraction\n"
   ]
  },
  {
   "cell_type": "code",
   "execution_count": 1,
   "metadata": {},
   "outputs": [],
   "source": [
    "%load_ext autoreload\n",
    "%autoreload 2"
   ]
  },
  {
   "cell_type": "code",
   "execution_count": 2,
   "metadata": {
    "tags": []
   },
   "outputs": [],
   "source": [
    "import concurrent.futures\n",
    "\n",
    "import pandas as pd\n",
    "from tqdm import tqdm\n",
    "\n",
    "from util import clone_or_pull_repo, export_commit_to_csv"
   ]
  },
  {
   "attachments": {},
   "cell_type": "markdown",
   "metadata": {},
   "source": [
    "## 1. Clone or Pull GitHub Repositories\n",
    "- reads from `/data/repos.txt`"
   ]
  },
  {
   "cell_type": "code",
   "execution_count": 4,
   "metadata": {},
   "outputs": [
    {
     "name": "stdout",
     "output_type": "stream",
     "text": [
      "Pulling openssh-portable\n",
      "[DONE] Pulling openssh-portable\n"
     ]
    }
   ],
   "source": [
    "repo_sources = []\n",
    "\n",
    "with open(\"data/repos.txt\") as f:\n",
    "    for line in f:\n",
    "        repo_sources.append(line.strip())\n",
    "\n",
    "repos = []\n",
    "with concurrent.futures.ThreadPoolExecutor(max_workers=10) as executor:\n",
    "    repos = executor.map(clone_or_pull_repo, repo_sources)\n",
    "repos = list(repos)"
   ]
  },
  {
   "attachments": {},
   "cell_type": "markdown",
   "metadata": {},
   "source": [
    "## 2. Extraction"
   ]
  },
  {
   "attachments": {},
   "cell_type": "markdown",
   "metadata": {},
   "source": [
    "### To CSV"
   ]
  },
  {
   "cell_type": "code",
   "execution_count": 5,
   "metadata": {},
   "outputs": [
    {
     "name": "stderr",
     "output_type": "stream",
     "text": [
      "Exporting commits to CSV: 100%|██████████| 12209/12209 [00:14<00:00, 841.48it/s]\n"
     ]
    }
   ],
   "source": [
    "# count commits in all repos using list comprehension\n",
    "commit_count = sum(1 for repo in repos for commit in repo.iter_commits())\n",
    "\n",
    "with tqdm(total=commit_count, desc=\"Exporting commits to CSV\") as pbar:\n",
    "    for repo in repos:\n",
    "        for commit in repo.iter_commits():\n",
    "            export_commit_to_csv(commit, \"data/commits.csv\")\n",
    "            pbar.update()"
   ]
  },
  {
   "cell_type": "code",
   "execution_count": 37,
   "metadata": {},
   "outputs": [
    {
     "data": {
      "text/html": [
       "<div>\n",
       "<style scoped>\n",
       "    .dataframe tbody tr th:only-of-type {\n",
       "        vertical-align: middle;\n",
       "    }\n",
       "\n",
       "    .dataframe tbody tr th {\n",
       "        vertical-align: top;\n",
       "    }\n",
       "\n",
       "    .dataframe thead th {\n",
       "        text-align: right;\n",
       "    }\n",
       "</style>\n",
       "<table border=\"1\" class=\"dataframe\">\n",
       "  <thead>\n",
       "    <tr style=\"text-align: right;\">\n",
       "      <th></th>\n",
       "      <th>message</th>\n",
       "      <th>sha</th>\n",
       "      <th>remote_url</th>\n",
       "      <th>label</th>\n",
       "    </tr>\n",
       "  </thead>\n",
       "  <tbody>\n",
       "    <tr>\n",
       "      <th>0</th>\n",
       "      <td>fixup! if -s &amp; -p specified, mention 'sftp -P'...</td>\n",
       "      <td>2709809fd616a0991dc18e3a58dea10fb383c3f0</td>\n",
       "      <td>https://github.com/openssh/openssh-portable</td>\n",
       "      <td>NaN</td>\n",
       "    </tr>\n",
       "    <tr>\n",
       "      <th>1</th>\n",
       "      <td>Make ssh-copy-id(1) consistent with OpenSSH.\\n...</td>\n",
       "      <td>204e0bf05161b7641500d7ab266c21217412379f</td>\n",
       "      <td>https://github.com/openssh/openssh-portable</td>\n",
       "      <td>NaN</td>\n",
       "    </tr>\n",
       "    <tr>\n",
       "      <th>2</th>\n",
       "      <td>if -s &amp; -p specified, mention 'sftp -P' on suc...</td>\n",
       "      <td>9de79df66d1430d290fab670bb4b18612875e518</td>\n",
       "      <td>https://github.com/openssh/openssh-portable</td>\n",
       "      <td>NaN</td>\n",
       "    </tr>\n",
       "    <tr>\n",
       "      <th>3</th>\n",
       "      <td>drop whitespace\\n\\nSSH-Copy-ID-Upstream: e604f...</td>\n",
       "      <td>801cda54c00e0f4e7d89345a90874c8d05dc233a</td>\n",
       "      <td>https://github.com/openssh/openssh-portable</td>\n",
       "      <td>NaN</td>\n",
       "    </tr>\n",
       "    <tr>\n",
       "      <th>4</th>\n",
       "      <td>make -x also apply to the target script\\n\\nSSH...</td>\n",
       "      <td>288482f53613f3e74544eb92deeb24f7c7f1f371</td>\n",
       "      <td>https://github.com/openssh/openssh-portable</td>\n",
       "      <td>NaN</td>\n",
       "    </tr>\n",
       "  </tbody>\n",
       "</table>\n",
       "</div>"
      ],
      "text/plain": [
       "                                             message  ... label\n",
       "0  fixup! if -s & -p specified, mention 'sftp -P'...  ...   NaN\n",
       "1  Make ssh-copy-id(1) consistent with OpenSSH.\\n...  ...   NaN\n",
       "2  if -s & -p specified, mention 'sftp -P' on suc...  ...   NaN\n",
       "3  drop whitespace\\n\\nSSH-Copy-ID-Upstream: e604f...  ...   NaN\n",
       "4  make -x also apply to the target script\\n\\nSSH...  ...   NaN\n",
       "\n",
       "[5 rows x 4 columns]"
      ]
     },
     "execution_count": 37,
     "metadata": {},
     "output_type": "execute_result"
    }
   ],
   "source": [
    "df = pd.read_csv(\"data/commits.csv\", names=[\"message\", \"sha\", \"remote_url\", \"label\"])\n",
    "df.head()"
   ]
  }
 ],
 "metadata": {
  "colab": {
   "collapsed_sections": [
    "CgTBrgzeltDT"
   ],
   "provenance": []
  },
  "kernelspec": {
   "display_name": "Python 3 (ipykernel)",
   "language": "python",
   "name": "python3"
  },
  "language_info": {
   "codemirror_mode": {
    "name": "ipython",
    "version": 3
   },
   "file_extension": ".py",
   "mimetype": "text/x-python",
   "name": "python",
   "nbconvert_exporter": "python",
   "pygments_lexer": "ipython3",
   "version": "3.11.3"
  }
 },
 "nbformat": 4,
 "nbformat_minor": 4
}
