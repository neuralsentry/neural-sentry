{
 "cells": [
  {
   "cell_type": "markdown",
   "metadata": {},
   "source": [
    "# Data Extraction\n"
   ]
  },
  {
   "cell_type": "code",
   "execution_count": 1,
   "metadata": {
    "tags": []
   },
   "outputs": [],
   "source": [
    "import re\n",
    "import os\n",
    "from typing import Dict, List\n",
    "\n",
    "import pandas as pd\n",
    "import numpy as np\n",
    "from dotenv import load_dotenv\n",
    "from github import Github, Commit, Repository\n",
    "\n",
    "load_dotenv()\n",
    "\n",
    "GITHUB_ACCESS_TOKEN = os.getenv(\"GITHUB_ACCESS_TOKEN\")"
   ]
  },
  {
   "cell_type": "markdown",
   "metadata": {},
   "source": [
    "## Extract Commits from Git\n"
   ]
  },
  {
   "cell_type": "markdown",
   "metadata": {},
   "source": [
    "### Local Git Repository\n"
   ]
  },
  {
   "cell_type": "code",
   "execution_count": null,
   "metadata": {},
   "outputs": [],
   "source": [
    "..."
   ]
  },
  {
   "cell_type": "markdown",
   "metadata": {},
   "source": [
    "### GitHub Repository\n",
    "\n",
    "Create a file named `github_commits.csv` in the `data/sources` directory.\n",
    "Refer to the following:\n",
    "\n",
    "- Columns: **remote, hash, label, ...metadata_columns**\n",
    "  - remote: `str`\n",
    "  - hash: `str`\n",
    "  - label: `int`\n",
    "    - 0: not a vulnerability fix\n",
    "    - 1: vulnerability fix\n",
    "  - ...metadata_columns: `any`\n",
    "    - any other columns will be added to the output in the metadata field\n",
    "\n",
    "**Example**\n",
    "\n",
    "```csv\n",
    "# github_commits.csv\n",
    "remote,hash,label,cve\n",
    "https://github.com/torvalds/linux.git,9d2231c5d74e13b2a0546fee6737ee4446017903,1,CVE-2022-0847\n",
    "```\n",
    "\n",
    "```\n",
    "input:\n",
    "remote,hash,label,...metadata_columns\n",
    "\n",
    "output:\n",
    "message,label,metadata\n",
    "```\n"
   ]
  },
  {
   "cell_type": "markdown",
   "metadata": {},
   "source": [
    "#### Extract Commit Message from Hashes\n",
    "- This will use up your Git limits (5000 requests / hr)"
   ]
  },
  {
   "cell_type": "code",
   "execution_count": 3,
   "metadata": {},
   "outputs": [],
   "source": [
    "df = pd.read_csv(\"data/sources/github_commits.csv\")\n",
    "\n",
    "repos = {}\n",
    "\n",
    "\n",
    "def get_repo_name(remote: str) -> str:\n",
    "    return re.sub(r\".*github.com/\", \"\", remote).split(\".git\")[0]\n",
    "\n",
    "\n",
    "def get_repo(repo_name: str) -> Repository.Repository:\n",
    "    if repo_name in repos:\n",
    "        return repos[repo_name]\n",
    "    g = Github(GITHUB_ACCESS_TOKEN)\n",
    "    repo = g.get_repo(repo_name)\n",
    "    repos[repo_name] = repo\n",
    "    return repo\n",
    "\n",
    "\n",
    "def get_commit(row) -> Commit.Commit:\n",
    "    repo = row[\"repo\"]\n",
    "    commit_hash = row[\"hash\"]\n",
    "    return repo.get_commit(commit_hash)\n",
    "\n",
    "\n",
    "df[\"repo_name\"] = df[\"remote\"].apply(get_repo_name)\n",
    "df[\"repo\"] = df[\"repo_name\"].apply(get_repo)\n",
    "df[\"commit\"] = df.apply(get_commit, axis=1)\n",
    "df[\"message\"] = df[\"commit\"].apply(lambda c: c.commit.message)"
   ]
  },
  {
   "cell_type": "code",
   "execution_count": 4,
   "metadata": {},
   "outputs": [],
   "source": [
    "output_df = df.drop(columns=[\"repo\", \"commit\", \"repo_name\"])\n",
    "\n",
    "output_columns = [\"message\", \"label\"]\n",
    "columns_to_drop = [col for col in output_df.columns if col not in output_columns]\n",
    "\n",
    "\n",
    "output_df[\"metadata\"] = output_df[columns_to_drop].apply(\n",
    "    lambda x: dict(zip(columns_to_drop, x)), axis=1\n",
    ")\n",
    "\n",
    "\n",
    "output_df = output_df.drop(columns=columns_to_drop)\n",
    "\n",
    "output_df.to_csv(\"data/processed/commits.csv\", index=False)"
   ]
  }
 ],
 "metadata": {
  "colab": {
   "collapsed_sections": [
    "CgTBrgzeltDT"
   ],
   "provenance": []
  },
  "kernelspec": {
   "display_name": "Python 3 (ipykernel)",
   "language": "python",
   "name": "python3"
  },
  "language_info": {
   "codemirror_mode": {
    "name": "ipython",
    "version": 3
   },
   "file_extension": ".py",
   "mimetype": "text/x-python",
   "name": "python",
   "nbconvert_exporter": "python",
   "pygments_lexer": "ipython3",
   "version": "3.11.3"
  }
 },
 "nbformat": 4,
 "nbformat_minor": 4
}
