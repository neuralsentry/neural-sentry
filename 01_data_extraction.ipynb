{
 "cells": [
  {
   "attachments": {},
   "cell_type": "markdown",
   "metadata": {},
   "source": [
    "# Data Extraction\n"
   ]
  },
  {
   "cell_type": "code",
   "execution_count": 24,
   "metadata": {},
   "outputs": [
    {
     "name": "stdout",
     "output_type": "stream",
     "text": [
      "The autoreload extension is already loaded. To reload it, use:\n",
      "  %reload_ext autoreload\n"
     ]
    }
   ],
   "source": [
    "%load_ext autoreload\n",
    "%autoreload 2"
   ]
  },
  {
   "cell_type": "code",
   "execution_count": 25,
   "metadata": {
    "tags": []
   },
   "outputs": [],
   "source": [
    "import concurrent.futures\n",
    "\n",
    "import pandas as pd\n",
    "from tqdm import tqdm\n",
    "\n",
    "from util import clone_or_pull_repo, export_commit_to_csv"
   ]
  },
  {
   "attachments": {},
   "cell_type": "markdown",
   "metadata": {},
   "source": [
    "## 1. Clone or Pull GitHub Repositories\n",
    "- reads from `/data/repos.txt`"
   ]
  },
  {
   "cell_type": "code",
   "execution_count": 26,
   "metadata": {},
   "outputs": [
    {
     "name": "stdout",
     "output_type": "stream",
     "text": [
      "Pulling openssh-portablePulling openssl\n",
      "\n",
      "Pulling httpd\n",
      "Pulling nginx\n",
      "[DONE] Pulling openssl\n",
      "[DONE] Pulling nginx\n",
      "[DONE] Pulling openssh-portable\n",
      "[DONE] Pulling httpd\n"
     ]
    }
   ],
   "source": [
    "repo_sources = []\n",
    "\n",
    "with open(\"data/repos.txt\") as f:\n",
    "    for line in f:\n",
    "        repo_sources.append(line.strip())\n",
    "\n",
    "repos = []\n",
    "with concurrent.futures.ThreadPoolExecutor(max_workers=10) as executor:\n",
    "    repos = executor.map(clone_or_pull_repo, repo_sources)\n",
    "repos = list(repos)"
   ]
  },
  {
   "attachments": {},
   "cell_type": "markdown",
   "metadata": {},
   "source": [
    "## 2. Extraction"
   ]
  },
  {
   "attachments": {},
   "cell_type": "markdown",
   "metadata": {},
   "source": [
    "### To CSV"
   ]
  },
  {
   "cell_type": "code",
   "execution_count": 27,
   "metadata": {},
   "outputs": [
    {
     "name": "stderr",
     "output_type": "stream",
     "text": [
      "Exporting commits to CSV: 100%|██████████| 87071/87071 [13:51<00:00, 104.67it/s]\n"
     ]
    }
   ],
   "source": [
    "# count commits in all repos using list comprehension\n",
    "commit_count = sum(1 for repo in repos for commit in repo.iter_commits())\n",
    "\n",
    "with tqdm(total=commit_count, desc=\"Exporting commits to CSV\") as pbar:\n",
    "    for repo in repos:\n",
    "        for commit in repo.iter_commits():\n",
    "            export_commit_to_csv(commit, \"data/commits.csv\")\n",
    "            pbar.update()"
   ]
  },
  {
   "cell_type": "code",
   "execution_count": 28,
   "metadata": {},
   "outputs": [],
   "source": [
    "df = pd.read_csv(\"data/commits.csv\", names=[\"message\", \"sha\", \"remote_url\"])\n",
    "df.head()\n",
    "df.to_csv(\"data/commits.csv\", index=False)"
   ]
  }
 ],
 "metadata": {
  "colab": {
   "collapsed_sections": [
    "CgTBrgzeltDT"
   ],
   "provenance": []
  },
  "kernelspec": {
   "display_name": "Python 3 (ipykernel)",
   "language": "python",
   "name": "python3"
  },
  "language_info": {
   "codemirror_mode": {
    "name": "ipython",
    "version": 3
   },
   "file_extension": ".py",
   "mimetype": "text/x-python",
   "name": "python",
   "nbconvert_exporter": "python",
   "pygments_lexer": "ipython3",
   "version": "3.10.0"
  }
 },
 "nbformat": 4,
 "nbformat_minor": 4
}
